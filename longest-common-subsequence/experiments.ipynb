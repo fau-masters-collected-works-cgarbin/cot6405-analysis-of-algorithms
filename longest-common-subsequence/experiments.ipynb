{
 "nbformat": 4,
 "nbformat_minor": 2,
 "metadata": {
  "language_info": {
   "name": "python",
   "codemirror_mode": {
    "name": "ipython",
    "version": 3
   },
   "version": "3.7.2-final"
  },
  "orig_nbformat": 2,
  "file_extension": ".py",
  "mimetype": "text/x-python",
  "name": "python",
  "npconvert_exporter": "python",
  "pygments_lexer": "ipython3",
  "version": 3,
  "kernelspec": {
   "name": "python37264bitenvvenvbfb87bad6a704ed3bff22befd15a1249",
   "display_name": "Python 3.7.2 64-bit ('env': venv)"
  }
 },
 "cells": [
  {
   "cell_type": "markdown",
   "metadata": {},
   "source": [
    "# Comparison of longest common subsequence (LCS) algorithms\n",
    "\n",
    "This notebooks compares longest common subsequence (LCS) algorithms:\n",
    "\n",
    "- Brute-force: generate combinations of subseqences and check if they are common subsequences.\n",
    "- Dynamic programming: take advantage of common subproblems to not evaluate the same subsequence more than once.\n",
    "- Hirschbger's linear space: a dynamic programming approach that uses significantly less memory.\n",
    "\n",
    "The comparison measures:\n",
    "\n",
    "- Runtime efficiency: how long does it take to find the LCS.\n",
    "- Memory efficiency: how much memory is used to find the LCS."
   ],
   "execution_count": null,
   "outputs": []
  },
  {
   "cell_type": "markdown",
   "metadata": {},
   "source": [
    "## Sanity check and initialization\n",
    "\n",
    "Check that the algorithms work by testing them against controlled input."
   ],
   "execution_count": null,
   "outputs": []
  },
  {
   "cell_type": "code",
   "execution_count": 68,
   "metadata": {},
   "outputs": [
    {
     "output_type": "stream",
     "name": "stdout",
     "text": "All tests passed\n"
    }
   ],
   "source": [
    "import lcs_brute_force\n",
    "import lcs_dynamic_programming\n",
    "import lcs_hirschberg\n",
    "import lcs_test\n",
    "\n",
    "lcs_test.test()"
   ]
  },
  {
   "cell_type": "markdown",
   "metadata": {},
   "source": [
    "Set a seed to make pseuudo-random generator generate the same sequence across runs. This mamkes it easier to compare different runs of the algorithms."
   ],
   "execution_count": null,
   "outputs": []
  },
  {
   "cell_type": "code",
   "execution_count": 69,
   "metadata": {},
   "outputs": [],
   "source": [
    "import random\n",
    "random.seed(42)"
   ]
  },
  {
   "cell_type": "markdown",
   "metadata": {},
   "source": [
    "## Tests\n",
    "\n",
    "To illustrate a real-life scenario, the code checks if a DNA strand is part of\n",
    "a larger DNA sequence (see [this for an illustration](https://en.wikipedia.org/wiki/Subsequence#Applications))."
   ],
   "execution_count": null,
   "outputs": []
  },
  {
   "cell_type": "markdown",
   "metadata": {},
   "source": [
    "An auxiliary function to generate random DNA sequences."
   ],
   "execution_count": null,
   "outputs": []
  },
  {
   "cell_type": "code",
   "execution_count": 70,
   "metadata": {},
   "outputs": [],
   "source": [
    "def random_dna_sequence(length):\n",
    "    '''Generates a random DNA sequence of the given length.'''\n",
    "    return ''.join(random.choice('ACTG') for _ in range(length))"
   ]
  },
  {
   "cell_type": "markdown",
   "metadata": {},
   "source": [
    "The DNA sequences to test on."
   ],
   "execution_count": null,
   "outputs": []
  },
  {
   "cell_type": "code",
   "execution_count": 71,
   "metadata": {},
   "outputs": [],
   "source": [
    "dna = random_dna_sequence(10_000)\n",
    "dna_strand = random_dna_sequence(1_000)"
   ]
  },
  {
   "cell_type": "code",
   "execution_count": 72,
   "metadata": {},
   "outputs": [],
   "source": [
    "# assert(lcs_brute_force.lcs(dna, dna_strand) == lcs_dynamic_programming.lcs(dna, dna_strand))\n",
    "# assert(lcs_brute_force.lcs(dna, dna_strand) == lcs_hirschberg.lcs(dna, dna_strand))"
   ]
  },
  {
   "cell_type": "code",
   "execution_count": 75,
   "metadata": {
    "tags": [
     "outputPrepend"
    ]
   },
   "outputs": [
    {
     "output_type": "stream",
     "name": "stdout",
     "text": "\nCPU times: user 1.37 ms, sys: 106 µs, total: 1.48 ms\nWall time: 1.5 ms\n"
    }
   ],
   "source": [
    "%%time\n",
    "lcs_brute_force.lcs(dna, dna_strand)\n",
    "print('')"
   ]
  },
  {
   "cell_type": "code",
   "execution_count": 76,
   "metadata": {},
   "outputs": [
    {
     "output_type": "stream",
     "name": "stdout",
     "text": "\nCPU times: user 14.4 s, sys: 913 ms, total: 15.3 s\nWall time: 15.5 s\n"
    }
   ],
   "source": [
    "%%time\n",
    "lcs_dynamic_programming.lcs(dna, dna_strand)\n",
    "print('')"
   ]
  },
  {
   "cell_type": "code",
   "execution_count": 77,
   "metadata": {},
   "outputs": [
    {
     "output_type": "stream",
     "name": "stdout",
     "text": "\nCPU times: user 6.43 s, sys: 57 ms, total: 6.49 s\nWall time: 6.56 s\n"
    }
   ],
   "source": [
    "%%time\n",
    "lcs_hirschberg.lcs(dna, dna_strand)\n",
    "print('')"
   ]
  },
  {
   "cell_type": "code",
   "execution_count": 83,
   "metadata": {},
   "outputs": [
    {
     "output_type": "stream",
     "name": "stdout",
     "text": "The line_profiler extension is already loaded. To reload it, use:\n  %reload_ext line_profiler\n"
    }
   ],
   "source": [
    "%load_ext line_profiler"
   ]
  },
  {
   "cell_type": "code",
   "execution_count": 91,
   "metadata": {},
   "outputs": [
    {
     "output_type": "error",
     "ename": "IndentationError",
     "evalue": "expected an indented block (<ipython-input-91-aa7d65ac0196>, line 39)",
     "traceback": [
      "\u001b[0;36m  File \u001b[0;32m\"<ipython-input-91-aa7d65ac0196>\"\u001b[0;36m, line \u001b[0;32m39\u001b[0m\n\u001b[0;31m    else:\u001b[0m\n\u001b[0m       ^\u001b[0m\n\u001b[0;31mIndentationError\u001b[0m\u001b[0;31m:\u001b[0m expected an indented block\n"
     ]
    }
   ],
   "source": [
    "from collections import defaultdict, namedtuple\n",
    "from itertools import product\n",
    "\n",
    "# To saves memory and speed-up the code, the move is stored\n",
    "# in the upper bits of a cell and the length in the lower bits\n",
    "MOVE_START = 25 # leaves 24 bits for the length\n",
    "MOVE_NONE = 0\n",
    "MOVE_DIAGONAL = 1 << (MOVE_START)\n",
    "MOVE_UP = 1 << (MOVE_START+1)\n",
    "MOVE_LEFT = 1 << (MOVE_START+2)\n",
    "EXCLUDE_LENGTH = (MOVE_DIAGONAL + MOVE_UP + MOVE_LEFT)\n",
    "EXCLUDE_MOVE = ~EXCLUDE_LENGTH\n",
    "\n",
    "def _lcs_grid(xs, ys):\n",
    "    r'''Creates a grid for longest common subsequence calculations.\n",
    "\n",
    "    Returns a grid where grid[i][j] is a pair (n, move) such that\n",
    "    - n is the length of the LCS of prefixes xs[:i], ys[:j]\n",
    "    - move is diagonal, up, left, encoded in the top-most bits\n",
    "\n",
    "    Example:\n",
    "      T      A      R      O      T\n",
    "    A 0|left 1|diag 1|left 1|left 1|left\n",
    "    R 0|left 1|up   2|diag 2|left 2|left\n",
    "    T 1|diag 1|left 2|up   2|left 3|diag\n",
    "    '''\n",
    "\n",
    "    # A grid of xs columns and ys rows\n",
    "    # Note that we start with 1, not the traditional 0 because the first\n",
    "    # column and first row are used as sentinels to avoid special cases\n",
    "    # in the code (sentinel = length is zero, no move)\n",
    "    grid = [[0 for i in range(len(xs)+1)] for j in range(len(ys)+1)]\n",
    "\n",
    "    for i in range(1, len(x)+1):\n",
    "        x = xs[i-1] # Remember that we use index 0 as a sentinel\n",
    "        for j in range(1, lenx(ys)+1):\n",
    "            y = ys[j-1]\n",
    "            if x == y:\n",
    "                # A match - move diagonally\n",
    "                grid[i][j] = (grid[i-1][j-1] & EXCLUDE_MOVE) | MOVE_DIAGONAL\n",
    "            else:\n",
    "                left_length = grid[i][j-1] & EXCLUDE_MOVE\n",
    "                above_length = grid[i-1][j] & EXCLUDE_MOVE\n",
    "                if left_length < above_length:\n",
    "                    grid[i][j] = above_length | MOVE_UP\n",
    "                else:\n",
    "                    grid[i][j] = left_length | MOVE_LEFT\n",
    "    return grid\n",
    "\n",
    "\n",
    "def lcs(xs, ys):\n",
    "    '''Returns a longest common subsequence of xs, ys.'''\n",
    "    grid = _lcs_grid(xs, ys)\n",
    "\n",
    "    # Will accumulate the LCS, in reverse order\n",
    "    lcs = list()\n",
    "\n",
    "    # Start that bottom-right corner\n",
    "    i = len(xs)\n",
    "    j = len(ys)\n",
    "    # Follow the moves\n",
    "    while i > 0 and j > 0:\n",
    "        move = grid[i][j] & EXCLUDE_LENGTH\n",
    "        if move == MOVE_DIAGONAL:\n",
    "            # A match - accumulate and move diagonally (top, left)\n",
    "            lcs.append(xs[i-1]) # Remeber that 0 is a sentinel\n",
    "            i -= 1\n",
    "            j -= 1\n",
    "        elif move == MOVE_UP:\n",
    "            i -= 1\n",
    "        elif move == MOVE_LEFT:\n",
    "            j -= 1\n",
    "\n",
    "    lcs.reverse()\n",
    "    return lcs\n"
   ]
  },
  {
   "cell_type": "code",
   "execution_count": 87,
   "metadata": {},
   "outputs": [
    {
     "output_type": "stream",
     "text": "Timer unit: 1e-06 s\n\nTotal time: 169.098 s\nFile: <ipython-input-84-3fd1e4e23a33>\nFunction: _lcs_grid at line 5\n\nLine #      Hits         Time  Per Hit   % Time  Line Contents\n==============================================================\n     5                                           def _lcs_grid(xs, ys):\n     6                                               r'''Creates a grid for longest common subsequence calculations.\n     7                                           \n     8                                               Returns a grid where grid[(j, i)] is a pair (n, move) such that\n     9                                               - n is the length of the LCS of prefixes xs[:i], ys[:j]\n    10                                               - move is \\, ^, <, or e, depending on whether the best move\n    11                                               to (j, i) was diagonal, downwards, or rightwards, or None.\n    12                                           \n    13                                               Example:\n    14                                               T  A  R  O  T\n    15                                               A 0< 1\\ 1< 1< 1<\n    16                                               R 0< 1^ 2\\ 2< 2<\n    17                                               T 1\\ 1< 2^ 2< 3\\\n    18                                               '''\n    19                                               # The cell in each grid\n    20                                               #   - length: the length of the move to make\n    21                                               #   - move: the move (direction) for `length`\n    22         1        374.0    374.0      0.0      Cell = namedtuple('Cell', ['length', 'move'])  # NOSONAR\n    23                                               # The grid, modeled as a dictionary that returns \"empty\" if we didn't\n    24                                               # set a move for a cell (to simplify corner cases)\n    25         1          3.0      3.0      0.0      grid = defaultdict(lambda: Cell(0, 'e'))\n    26                                               # All pairwise combinations of xs and ys and their indices\n    27                                               # If xs='XYZ' and ys='ABC':\n    28                                               #     ((0,'X'),(0,'A')), ((0,'X'),(1,'B')), ((0,'X'),(2,'C')),\n    29                                               #     ((1,'Y'),(0,'A')), ((1,'Y'),(1,'B')), ((1,'Y'),(2,'C')),...\n    30         1       3828.0   3828.0      0.0      sqs = product(enumerate(ys), enumerate(xs))\n    31                                               # Loop through all those pairs and their indices to build the grid\n    32  10000001    6699449.0      0.7      4.0      for (j, y), (i, x) in sqs:\n    33  10000000    5564436.0      0.6      3.3          if x == y:\n    34                                                       # A match - move diagonally\n    35   2499000    4576710.0      1.8      2.7              cell = Cell(grid[(j-1, i-1)].length + 1, '\\\\')\n    36                                                   else:\n    37   7501000    6143815.0      0.8      3.6              left = grid[(j, i-1)].length\n    38   7501000    8051010.0      1.1      4.8              over = grid[(j-1, i)].length\n    39   7501000    4221270.0      0.6      2.5              if left < over:\n    40    269157     365859.0      1.4      0.2                  cell = Cell(over, '^')\n    41                                                       else:\n    42   7231843  124336608.0     17.2     73.5                  cell = Cell(left, '<')\n    43  10000000    9134262.0      0.9      5.4          grid[(j, i)] = cell\n    44         1          0.0      0.0      0.0      return grid",
     "metadata": {},
     "execution_count": 87
    }
   ],
   "source": [
    "%lprun -f _lcs_grid lcs(dna, dna_strand)"
   ]
  },
  {
   "cell_type": "code",
   "execution_count": 88,
   "metadata": {},
   "outputs": [],
   "source": [
    "    grid = [[ 0 for i in range(3)] for j in range(10)]"
   ]
  },
  {
   "cell_type": "code",
   "execution_count": 89,
   "metadata": {},
   "outputs": [
    {
     "output_type": "stream",
     "name": "stdout",
     "text": "[[0, 0, 0], [0, 0, 0], [0, 0, 0], [0, 0, 0], [0, 0, 0], [0, 0, 0], [0, 0, 0], [0, 0, 0], [0, 0, 0], [0, 0, 0]]\n"
    }
   ],
   "source": [
    "print(grid)"
   ]
  },
  {
   "cell_type": "code",
   "execution_count": null,
   "metadata": {},
   "outputs": [],
   "source": []
  }
 ]
}
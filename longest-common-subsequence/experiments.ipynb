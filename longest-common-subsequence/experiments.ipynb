{
 "nbformat": 4,
 "nbformat_minor": 2,
 "metadata": {
  "language_info": {
   "name": "python",
   "codemirror_mode": {
    "name": "ipython",
    "version": 3
   },
   "version": "3.7.2-final"
  },
  "orig_nbformat": 2,
  "file_extension": ".py",
  "mimetype": "text/x-python",
  "name": "python",
  "npconvert_exporter": "python",
  "pygments_lexer": "ipython3",
  "version": 3,
  "kernelspec": {
   "name": "python37264bitenvvenvbfb87bad6a704ed3bff22befd15a1249",
   "display_name": "Python 3.7.2 64-bit ('env': venv)"
  }
 },
 "cells": [
  {
   "cell_type": "markdown",
   "metadata": {},
   "source": [
    "# Comparison of longest common subsequence (LCS) algorithms\n",
    "\n",
    "This notebooks compares longest common subsequence (LCS) algorithms:\n",
    "\n",
    "- Brute-force: generate combinations of subseqences and check if they are common subsequences.\n",
    "- Dynamic programming: take advantage of common subproblems to not evaluate the same subsequence more than once.\n",
    "- Hirschbger's linear space: a dynamic programming approach that uses significantly less memory.\n",
    "\n",
    "The comparison measures:\n",
    "\n",
    "- Runtime efficiency: how long does it take to find the LCS.\n",
    "- Memory efficiency: how much memory is used to find the LCS."
   ],
   "execution_count": null,
   "outputs": []
  },
  {
   "cell_type": "markdown",
   "metadata": {},
   "source": [
    "## Iport common modImport common modules."
   ],
   "execution_count": null,
   "outputs": []
  },
  {
   "cell_type": "code",
   "execution_count": 15,
   "metadata": {},
   "outputs": [],
   "source": [
    "import lcs_brute_force\n",
    "import lcs_recursive\n",
    "import lcs_dynamic_programming\n",
    "import lcs_dynamic_programming_v2\n",
    "import lcs_hirschberg\n",
    "import lcs_utils"
   ]
  },
  {
   "cell_type": "markdown",
   "metadata": {},
   "source": [
    "Set the pseudo-random generator seed to ensure repeatable results."
   ]
  },
  {
   "cell_type": "code",
   "execution_count": 7,
   "metadata": {},
   "outputs": [],
   "source": [
    "import random\n",
    "random.seed(42)"
   ]
  },
  {
   "cell_type": "markdown",
   "metadata": {},
   "source": [
    "## Sanity check\n",
    "\n",
    "Verify that the algorithms work before using them."
   ]
  },
  {
   "cell_type": "code",
   "execution_count": 8,
   "metadata": {},
   "outputs": [
    {
     "output_type": "stream",
     "name": "stdout",
     "text": "All basic tests passed\nAll DNA tests passed\n"
    }
   ],
   "source": [
    "import lcs_test\n",
    "\n",
    "lcs_test.test()"
   ]
  },
  {
   "cell_type": "code",
   "execution_count": null,
   "metadata": {},
   "outputs": [],
   "source": []
  },
  {
   "cell_type": "markdown",
   "metadata": {},
   "source": [
    "## Sanity check\n",
    "\n",
    "Verify that the algorithms are working before using them."
   ]
  },
  {
   "cell_type": "code",
   "execution_count": 1,
   "metadata": {},
   "outputs": [
    {
     "output_type": "stream",
     "name": "stdout",
     "text": "All basic tests passed\nAll DNA tests passed\n"
    }
   ],
   "source": [
    "import lcs_test\n",
    "lcs_test.test()"
   ]
  },
  {
   "cell_type": "markdown",
   "metadata": {},
   "source": [
    "## Tests\n",
    "\n",
    "To illustrate a real-life scenario, the code checks if a DNA strand is part of\n",
    "a larger DNA sequence (see [this for an illustration](https://en.wikipedia.org/wiki/Subsequence#Applications))."
   ],
   "execution_count": null,
   "outputs": []
  },
  {
   "cell_type": "markdown",
   "metadata": {},
   "source": [
    "The DNA sequences to test on."
   ],
   "execution_count": null,
   "outputs": []
  },
  {
   "cell_type": "code",
   "execution_count": 17,
   "metadata": {},
   "outputs": [
    {
     "output_type": "stream",
     "name": "stdout",
     "text": "\nCPU times: user 5.71 s, sys: 212 ms, total: 5.92 s\nWall time: 5.96 s\n"
    }
   ],
   "source": [
    "%%time\n",
    "lcs_dynamic_programming_v2.lcs(dna, dna_strand)\n",
    "print('')"
   ]
  },
  {
   "cell_type": "code",
   "execution_count": 11,
   "metadata": {},
   "outputs": [],
   "source": [
    "dna = lcs_utils.random_dna_sequence(10_000)\n",
    "dna_strand = lcs_utils.random_dna_sequence(1_000)"
   ]
  },
  {
   "cell_type": "code",
   "execution_count": 12,
   "metadata": {
    "tags": [
     "outputPrepend"
    ]
   },
   "outputs": [
    {
     "output_type": "stream",
     "name": "stdout",
     "text": "\nCPU times: user 1.21 ms, sys: 118 µs, total: 1.33 ms\nWall time: 1.38 ms\n"
    }
   ],
   "source": [
    "%%time\n",
    "lcs_brute_force.lcs(dna, dna_strand)\n",
    "print('')"
   ]
  },
  {
   "cell_type": "code",
   "execution_count": 13,
   "metadata": {},
   "outputs": [
    {
     "output_type": "stream",
     "name": "stdout",
     "text": "\nCPU times: user 20.3 s, sys: 1.18 s, total: 21.5 s\nWall time: 21.9 s\n"
    }
   ],
   "source": [
    "%%time\n",
    "lcs_dynamic_programming.lcs(dna, dna_strand)\n",
    "print('')"
   ]
  },
  {
   "cell_type": "code",
   "execution_count": 18,
   "metadata": {},
   "outputs": [
    {
     "output_type": "stream",
     "name": "stdout",
     "text": "\nCPU times: user 6.52 s, sys: 54.5 ms, total: 6.57 s\nWall time: 6.63 s\n"
    }
   ],
   "source": [
    "%%time\n",
    "lcs_hirschberg.lcs(dna, dna_strand)\n",
    "print('')"
   ]
  },
  {
   "cell_type": "code",
   "execution_count": null,
   "metadata": {},
   "outputs": [],
   "source": []
  }
 ]
}
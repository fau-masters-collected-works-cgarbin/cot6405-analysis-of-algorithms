{
 "cells": [
  {
   "cell_type": "markdown",
   "metadata": {},
   "source": [
    "# Comparison of longest common subsequence (LCS) algorithms\n",
    "\n",
    "**COT 6405 Analysis of Algorithms, Spring 2020**\n",
    "\n",
    "**Christian Garbin**"
   ]
  },
  {
   "cell_type": "markdown",
   "metadata": {},
   "source": [
    "## Introduction\n",
    "\n",
    "This notebook compares **longest common subsequence** (defined below) algorithms:\n",
    "\n",
    "- Brute-force: generates combinations of subseqences and check if they are common subsequences.\n",
    "- Dynamic programming: takes advantage of common subproblems to not evaluate the same subsequence more than once.\n",
    "- Hirschbger's linear space: a dynamic programming approach that uses significantly less space.\n",
    "\n",
    "The comparison measures:\n",
    "\n",
    "- Runtime efficiency: how long it take to find a longest common subsequence.\n",
    "- Space efficiency: how much space is used to find a longest common subsequence.\n",
    "\n",
    "The code used in the experiments is written in Pyhton 3.x."
   ]
  },
  {
   "cell_type": "markdown",
   "metadata": {},
   "source": [
    "## Longest common subsequence\n",
    "\n",
    "Given a sequence $X = <x_1, x_2, \\dots, x_m>$, another sequence $Z$ is a **subsequence** of $X$ if there is a strictly increasing sequence $<i_1, i_2, \\dots, i_k>$ of indices of $X$ such that for all $j = 1, 2, \\dots, k$, we have $x_{ij} = z_j$ \\[CLRS01\\].\n",
    "\n",
    "For example:\n",
    "\n",
    "- Given the sequence $X = <A, B, C, B, D, A, B>$\n",
    "- The sequence $Z = <B, C, D, B>$ is a subsequence of $X$, with indices $<2, 3, 5, 7>$\n",
    "\n",
    "Given two sequences, a **common subsequence** is a sequence that is common to both sequences. A **longest common subsequence** (LCS) is a maximum-length common subsequence.\n",
    "\n",
    "For example:\n",
    "\n",
    "- Given the sequences $X = <A, B, C, B, D, A, B>$ and $Y = <B, D, C, A, B, A>$\n",
    "- The sequence $<B, C, A>$ is a common subsequence\n",
    "- The sequence $<B, C, B, A>$ is a longest common subsequence\n",
    "- The sequence $<B, D, A, B>$ is another LCS, therefore LCSs do not have to be unique\n",
    "\n",
    "### Applications\n",
    "\n",
    "Applications of LCS include determining if two organisms are similar by comparing their DNAs. In this case, \"similar\" can be determined by the longest common subsequence between the DNAs. The longer the subsequence, the more common the organisms are.\n",
    "\n",
    "Building on the DNA example, LCS can be used as a form of compression. Using a pre-built suffix tree, an LCS-based solution compressed the human genome from about 3 GB to just over 8 MB \\[BAF16\\].\n",
    "\n",
    "LCS is also used in version control systems to produce the \"diff\", the minimal amount of additions and deletions that transform the older version of a file into the new version, also known as the \"edit distance\" \\[NAV01\\]. For example, this output of Git's `diff` command between two versions of a file shows deletion and addition of two lines to transform the old version of the file into the new one:\n",
    "\n",
    "````\n",
    "@@ -33,15 +33,11 @@ class ModifiedFile(BaseCommit):\n",
    "     '''Number of lines added to the file in this commit.'''\n",
    "     deleted = Column(Integer)\n",
    "-    '''Number of lines deleted from the file in tihs commit.'''\n",
    "+    '''Number of lines deleted from the file in this commit.'''\n",
    "-    commit_id = Column(String)\n",
    "+    commit_id = Column(String, ForeignKey('commit_info.commit_id'))\n",
    "````"
   ]
  },
  {
   "cell_type": "markdown",
   "metadata": {},
   "source": [
    "## Notebook structure\n",
    "\n",
    "The remainder of this notebook is structured as follows:\n",
    "\n",
    "- **Algorithms**: describes the algorithms used in the tests.\n",
    "- **Planning of experiments**: describes the experiments performed, data collected for each one, the analysis performed on them.\n",
    "- **Initialization and verification**: initializes the notebook (import Python modules, set important environment values) and verifies that the algorithms are working before using them.\n",
    "- **Measurement and analysis**: run the tests to collect the metrics and analyzes those metrics.\n",
    "- **Code**: documents relevant pieces of the code and other technical aspects found during the development and execution of the tests."
   ]
  },
  {
   "cell_type": "markdown",
   "metadata": {},
   "source": [
    "## Algorithms\n",
    "\n",
    "Three algorithms will be analyzed:\n",
    "\n",
    "- Brute-force\n",
    "- Dynamic programming\n",
    "- Hirschberg’s linear space\n",
    "\n",
    "In all sections below, $m$ is the lenght of the longest sequence and $n$ is the lenght of the shortest sequence."
   ]
  },
  {
   "cell_type": "markdown",
   "metadata": {},
   "source": [
    "### Brute-force\n",
    "\n",
    "Brute-force is the simplest LCS algorithm is the brute-force approach: generate subsequences of the smaller sequence and check if they are also a subsequence of the larger sequence. \n",
    "\n",
    "The runtime is exponential, $O(2^n$), given that there are $2^n$ subsequences to try in the worst case scenario. Space usage depends the implementation. A naive implementation would generate all combinations of the smaller sequence ahead time, using $O(2^n)$ space. An optimized implementation generates one combination of the smaller sequence at a time, using $O(n)$ space.\n",
    "\n",
    "The pseudocode for the algorithm is:\n",
    "\n",
    "````\n",
    "LCS_BRUTE_FORCE(X, Y)\n",
    "    // Pick the shortest sequence to generate subsequences\n",
    "    short_seq = shortest_of(X, Y)\n",
    "    long_seq = longest_of(X, Y)\n",
    "\n",
    "    // Try all subsequencesof the shortest sequence\n",
    "    for i = length(short_seq) to 1\n",
    "        // Try all subsequences of length i, one at a time\n",
    "        while \"there are subsequences of length i to try\":\n",
    "            subseq = next_subsequence(short_seq, i)\n",
    "            if is_subsequence(subseq, long_seq)\n",
    "                return subseq\n",
    "    \n",
    "    // Could not find a subsequence\n",
    "    return [] // empty sequence\n",
    "````"
   ]
  },
  {
   "cell_type": "markdown",
   "metadata": {},
   "source": [
    "### Dynamic programming\n",
    "\n",
    "Dynamic programming makes use of the optimal substructure of the LCS, solving smaller subproblems only once, combining the solutions. This algorithm has an $O(nm)$ running time. Its space is also $O(mn)$ \\[CLRS01\\].\n",
    "\n",
    "The pseudocode is shown below. It has two parts: first two matrices are constructed to determine the LCS length and how to construct it (a series of \"moves\"), then the LCS is extracted by going through the moves matrix.\n",
    "\n",
    "````\n",
    "LCS_LENGTH(X, Y)\n",
    "    m = length(X)\n",
    "    n = length(Y)\n",
    "\n",
    "    // c is an m x n matrix with the top row and\n",
    "    // left column initialized to zero\n",
    "    c = matrix(m, n)\n",
    "    for i = 1 to m\n",
    "        c[i, 0] = 0\n",
    "    for j = 1 to n\n",
    "        c[0, j] = 0\n",
    "\n",
    "    // b is an m x n empty matrix that will hold the\n",
    "    // movements to build the LCS\n",
    "    b = matrix(m ,n)\n",
    "\n",
    "    for i = 1 to m\n",
    "        for j = 1 to n\n",
    "            if X[i] == Y[j]\n",
    "                c[i,j] = c[i-1,j-1] + 1\n",
    "                b[i,j] =  \"diagonal\"\n",
    "            else if c[i-1,j] >= c[i, j-1]\n",
    "                c[i,j] = c[i-1,j]\n",
    "                b[i,j] =  \"up\"\n",
    "            else\n",
    "                c[i,j] = c[i,j-1]\n",
    "                b[i,j] =  \"down\"\n",
    "\n",
    "    // c[m,n] has the LCS length and b has the\n",
    "    // sequences of moves to extract the LCS\n",
    "    return c, b\n",
    "\n",
    "EXTRACT_LCS(b, X, i, j)\n",
    "    lcs = empty_list()\n",
    "\n",
    "    while i > 0 and j > 0\n",
    "        move = b[i,j]\n",
    "        if move == \"diagonal\"\n",
    "            lcs = lcs + X[i]\n",
    "            i = i - 1\n",
    "            j = j - 1\n",
    "        else if move == \"up\"\n",
    "            i = i - 1\n",
    "        else // \"down\"\n",
    "            j = j - 1\n",
    "\n",
    "    // The LCS was built from the bottom up,\n",
    "    // need revert it before returning\n",
    "    return reverse(lcs)\n",
    "\n",
    "LCS(X, Y)\n",
    "    b, c = LCS_LENGTH(X, Y)\n",
    "    lcs = EXTRACT_LCS(b, X, length(X), length(Y))\n",
    "    return lcs\n",
    "````"
   ]
  },
  {
   "cell_type": "markdown",
   "metadata": {},
   "source": [
    "### Hirschberg’s linear space\n",
    "\n",
    "Hirschberg’s linear space algorithm \\[HIR75\\] is a dynamic programming approach that uses divide-and-conquer. As the name indicates, it makes efficient use of space. The running time is still $O(mn)$, but space is reduced to $O(m+n)$ \\[KT05\\] \\[FAG16\\].\n",
    "\n",
    "The pseudocode is shown below. It has two parts: a \"scoring\" function to help decide where to divide the current subsequence being analyzed, and the function that divides-and-conquers, based on that score.\n",
    "\n",
    "````\n",
    "SCORE(X, Y)\n",
    "    m = length(X)\n",
    "    n = length(Y)\n",
    "\n",
    "    // A list of of scores, initialized with n zeros\n",
    "    scores = list(0 * n)\n",
    "\n",
    "    for i = 1 to m\n",
    "        prev_score = scores\n",
    "        for j = 1 to n\n",
    "            if X[i] == Y[j]\n",
    "                scores[j+1] = prev_scores[j] + 1\n",
    "            else\n",
    "                scores[j+1] = max(scores[j], prev_scores[j + 1])\n",
    "    \n",
    "    return scores\n",
    "\n",
    "LCS(X, Y)\n",
    "    m = length(X)\n",
    "    n = length(Y)\n",
    "    if m == 0\n",
    "        // Got to the end of the sequence\n",
    "        return []\n",
    "    else if m == 1\n",
    "        // Last character, check if it is in subsequence\n",
    "        if X[1] is in Y\n",
    "            return X[1]\n",
    "        else\n",
    "            return []\n",
    "    else\n",
    "        // Find where to split the current sequences\n",
    "\n",
    "        // X is split in the middle\n",
    "        i = m / 2\n",
    "        XB = X[i:i]\n",
    "        XE = X[i+1:m]\n",
    "\n",
    "        // Y is split based on the scores\n",
    "        cost_top_left = SCORE(XB, Y)\n",
    "        cost_bottom_right = SCORE(reverse(XE), reverse(Y)))\n",
    "        cost = cost_top_left + reverse(cost_bottom_right)\n",
    "\n",
    "        k = index of max(cost) // argmax(cost)\n",
    "        YB = Y[1:k]\n",
    "        YE = Y[k+1:n]\n",
    "\n",
    "        // Solve for each part of the split sequences\n",
    "        return LCS(XB, YB) + LCS(XE, YE)\n",
    "````"
   ]
  },
  {
   "cell_type": "markdown",
   "metadata": {},
   "source": [
    "## Planning of experiments\n",
    "\n",
    "The experiments compare the runtime and space of the brute-force, dynamic programming recursive, and Hirchberg's linear space algorithms.\n",
    "\n",
    "To illustrate the algorithms in a typical application, the tests will use two strings that resemble DNA sequences (a combination of the letters A, C, G, and T) and will find an LCS for them. To emulate the computational biology case of searching for a common substring between two DNA strands, in each case we will search for a string that is one-tenth of the larger strings, illustrated in the table below."
   ]
  },
  {
   "cell_type": "markdown",
   "metadata": {},
   "source": [
    "### Input size for tests\n",
    "\n",
    "Strings of three sizes will be used, small, medium, large. For each size, the same strings will be used with all algorithms, to keep the comparison consistent.\n",
    "\n",
    "| Test size |  The DNA strain (X)<br>This is the _m_ in RT and space analysis | The possible common sequence (Y)<br>This is the _n_ in RT and memory analysis |\n",
    "|-|-:|-:|\n",
    "| Small  |   1,000 |   100  |\n",
    "| Medium |  10,000 |  1,000 |\n",
    "| Large  | 100,000 | 10,000 |\n",
    "Table 1 - Size of strings to test and how they map to the m and n of the RT and memory analysis."
   ]
  },
  {
   "cell_type": "markdown",
   "metadata": {},
   "source": [
    "### Runs\n",
    "\n",
    "Each algorithm will be executed ten times (k=10) for each string size to remove variations in the environment. The average of these runs will be used as the final number for the algorithm.\n",
    "\n",
    "Two values will be measured in each run, running time (RT) and memory (space) usage:\n",
    "\n",
    "- Time: measured with Python's [`time` package](https://docs.python.org/3/library/time.html).\n",
    "- Memory: measured with Python's [`memory_profiler` package](https://pypi.org/project/memory-profiler/).\n",
    "\n",
    "Details of how measurements were conducted are documented in the code section, later in this document."
   ]
  },
  {
   "cell_type": "markdown",
   "metadata": {},
   "source": [
    "### Data structures\n",
    "\n",
    "Experimental data, the strings, will be stored in the standard data structures for string representation, usually mapped to a constant-time access continuous array in programming languages. Auxiliary data structures to keep track of intermediate results will be kept either in Pythnon arrays on NumPy arrays, whichever is more performant for a specific piece of code."
   ]
  },
  {
   "cell_type": "markdown",
   "metadata": {},
   "source": [
    "### Input generation\n",
    "\n",
    "Strings for the tests will be generated using a pseudo-random number generation initialized with a seed, to ensure the repeatability of the experiments (the same sequence is generated every time). The strings will be generated only once, before each algorithm is executed, to ensure that the results can be compared with each other."
   ]
  },
  {
   "cell_type": "markdown",
   "metadata": {},
   "source": [
    "\n",
    "### Graphs and tables\n",
    "\n",
    "For each algorithm, two tables will be filled in:\n",
    "\n",
    "- RT analysis: theoretical vs. empirical RT.\n",
    "- Memory usage: theoretical vs. empirical memory usage.\n",
    "\n",
    "The following table illustrates the RT analysis for the brute-force algorithm.\n",
    "\n",
    "| Test size | Theoretical complexity |  Empirical RT (ms) | Ratio (empirical RT / theoretical complexity | Predicted RT | % error |\n",
    "|-|-|-|-|-|-|\n",
    "| Small<br> m=1,000, n=100 | $2^n$ = $2^{100}$ | | | | |\n",
    "| Medium<br> m=10,000, n=1,000 | $2^n$ = $2^{1000}$ | | | | |\n",
    "| Large<br> m=100,000, n=10,000 | $2^n$ = $2^{10000}$ | | | | |\n",
    "Table 2 - RT analysis table example, using the brute-force algorithm as illustration\n",
    "\n",
    "The table columns are computed as follows:\n",
    "\n",
    "- _Ratio_ measures the ratio between the empirical and the theoretical complexity. Its value is always > 0. It is used to calculate the constant _c_.\n",
    "    - The constant _c_ measures the overhead of the steps (computer instructions) that are outside the main loops (or recursive calls) of the algorithms. It is determined as the maximum of the ratio values (with outliers discarded), i.e. the maximum value of the _Ratio_ column.\n",
    "- _Predicted RT_ is computed as the constant _c_ times the _Theoretical complexity_.\n",
    "- _% error_ measures the discrepancy between the predicted and the empirical time: _(Empirical RT - Predicted RT) / Empirical RT * 100_.\n",
    "\n",
    "The following table illustrates memory usage for the brute-force algorithm.\n",
    "\n",
    "| Test size | Theoretical memory usage (KiB) | Empirical memory usage (KiB) | % error |\n",
    "|-|-|-|-|\n",
    "| Small<br>m=1,000, n=100 | n  / 1024 = 0.98 | |\n",
    "| Medium<br>m=10,000, n=1,000 | 9.8 | |\n",
    "| Large<br>m=100,000, n=10,000 | 97.7 | |\n",
    "Table 3 - Memory usage analysis table example, using the brute-force algorithm as illustration\n",
    "\n",
    "The table columns are computed as follows:\n",
    "\n",
    "- _Theoretical memory usage_ is the number of characters needed, times 1 byte per character, divided by 1,024 to transform to KiB.\n",
    "    - \"1 byte per character\" comes from the variable-length encoding of strings in Python using the CPython environment. Because we are representing DNA strands, we are using only ASCII characters, which are represented as 1 byte \\[CPY20\\] \\[GOL20\\].\n",
    "- _% error_ measures the discrepancy between the theoretical and empirical memory usage: _Empirical memory usage / Predicted memory usage) / Empirical memory usage * 100_.\n",
    "\n",
    "For the other algorithms, the theoretical values will be adjusted as follows:\n",
    "\n",
    "- Dynamic programming:\n",
    "    - Theoretical RT = $m \\times n$\n",
    "    - Theoretical memory usage = $m \\times n$\n",
    "- Hirschberg’s linear space algorithm\n",
    "    - Theoretical RT = $m \\times n$\n",
    "    - Theoretical memory usage = $m + n$\n",
    "\n",
    "Once the tables are filled in, two sets of graphs will be created:\n",
    "\n",
    "- **Algorithm comparison**: this set of graphs compares the empirical runtime and memory usage of the algorithms. There will be one runtime and one memory usage plot for all algorithms (two graphs).\n",
    "- **Theoretical vs. empirical results**: this set of graphs compares the empirical runtime and memory usage of each algorithm. There will be one set of plots for each algorithm and each size, for a total of 9 graphs (3 algorithms, 3 sizes).\n",
    "\n",
    "The following graphs will be generated for algorithm comparison:\n",
    "\n",
    "- RT comparison: a horizontal bar graph with the runtime in ms (horizontal axis) for each algorithm, grouped by the input size. A horizontal bar graph will be used because of the expected large values for large input sizes. This representation makes better use of space.\n",
    "- Memory comparison: similar to the graph above, using memory usage as the horizontal axis.\n",
    "\n",
    "The following graphs will be generated for each algorithm for the theoretical vs. empirical results:\n",
    "\n",
    "- Theoretical vs. empirical runtime in ms for each input size\n",
    "- Theoretical vs. empirical memory usage in KiB for each input size\n",
    "\n",
    "### Programming language\n",
    "\n",
    "The experiments use Python 3.x in a Jupyter Notebook environment."
   ]
  },
  {
   "cell_type": "markdown",
   "metadata": {},
   "source": [
    "## Initialization and verification"
   ]
  },
  {
   "cell_type": "markdown",
   "metadata": {},
   "source": [
    "Set a seed to make pseudo-random generator generate the same sequence across runs. This makes it easier to compare different runs of the algorithms."
   ]
  },
  {
   "cell_type": "code",
   "execution_count": 1,
   "metadata": {},
   "outputs": [],
   "source": [
    "import random\n",
    "random.seed(42)"
   ]
  },
  {
   "cell_type": "code",
   "execution_count": 25,
   "metadata": {},
   "outputs": [],
   "source": [
    "import pandas as pd\n",
    "pd.set_option('precision', 3)\n",
    "# Set to True when converting to PDF\n",
    "pd.set_option('display.latex.repr', False)"
   ]
  },
  {
   "cell_type": "markdown",
   "metadata": {},
   "source": [
    "Check that the algorithms work by testing them against controlled input.\n",
    "\n",
    "There are three part to the tests:\n",
    "\n",
    "1. Automated tests that check against well-defined inputs. They are meant to be easy to debug, in case an algorithm fails.\n",
    "1. Tests with longer inputs that simular DNA strands. They test more realistic scenarios, but still short enough to run fast.\n",
    "1. A visual check, by printing the aligned subsequence. They guard against the test code itself having a failure that generates false positives."
   ]
  },
  {
   "cell_type": "code",
   "execution_count": 3,
   "metadata": {},
   "outputs": [
    {
     "output_type": "stream",
     "name": "stdout",
     "text": "All basic tests passed\nAll DNA tests passed\nVisual inspection:\n                         lcs_brute_force:  TACCGCATTATCGATACTTTTACCGACAAC\n                         lcs_brute_force:  ....G.......G.T.CTTT.A...ACAA. size=12\n    lcs_dynamic_programming_matrix_numpy:  ....G.......G.T.CTTT.A...ACAA. size=12\n                    lcs_hirschberg_numpy:  ....G.......G.T.CTTT.A...ACAA. size=12\n"
    }
   ],
   "source": [
    "import lcs_test\n",
    "\n",
    "lcs_test.test(visualize=True)"
   ]
  },
  {
   "cell_type": "markdown",
   "metadata": {},
   "source": [
    "## Runtime tests and analysis\n",
    "\n",
    "To illustrate a real-life scenario, the code checks if a DNA strand is part of\n",
    "a larger DNA sequence \\[[WIK20](https://en.wikipedia.org/wiki/Subsequence#Applicationshttps://en.wikipedia.org/wiki/Subsequence#Applications)\\]."
   ]
  },
  {
   "cell_type": "code",
   "execution_count": 9,
   "metadata": {},
   "outputs": [],
   "source": [
    "# Force reload because this piece of code frequently changes\n",
    "import importlib\n",
    "import metrics as m\n",
    "importlib.reload(m);"
   ]
  },
  {
   "cell_type": "code",
   "execution_count": 27,
   "metadata": {},
   "outputs": [
    {
     "output_type": "stream",
     "name": "stdout",
     "text": "Loading from file\n"
    }
   ],
   "source": [
    "rt_results_raw, rt_results_summary = m.runtime(verbose=1, file='runtime')"
   ]
  },
  {
   "cell_type": "markdown",
   "metadata": {},
   "source": [
    "We now how have two Pandas DataFramse:\n",
    "\n",
    "- `rt_results_raw`: results from all 10 executions of each algorithms and each input size.\n",
    "- `rt_results_summary`: average of the executions for each each algorithm and input size."
   ]
  },
  {
   "cell_type": "markdown",
   "metadata": {},
   "source": [
    "### Brute-force analysis\n",
    "\n",
    "The table below shows a large error for the brute-force algorithm. This is likely caused by the small \"vocabulary\" used to create the sequences. \n",
    "\n",
    "DNA is represented by a combination of four letter, A, C, G, and T. With this small number of letters to combine, it is relatively easy to find subsequences in a sequence that is ten times larger.\n",
    "\n",
    "> Add an experiment with full alphabet, small and capital letters, plus numbers."
   ]
  },
  {
   "cell_type": "code",
   "execution_count": 28,
   "metadata": {},
   "outputs": [
    {
     "output_type": "stream",
     "name": "stdout",
     "text": "c=4.930380657640854e-32\n"
    },
    {
     "output_type": "display_data",
     "data": {
      "text/plain": "     Algorithm  Sequence size  Subsequence size  Empirical RT (ms)  \\\n0  Brute force           1000               100              0.063   \n1  Brute force          10000              1000              0.684   \n2  Brute force         100000             10000              6.109   \n\n   Theoretical complexity       Ratio  Predicted RT     % error  \n0               1.268e+30   4.930e-32     6.250e-02   0.000e+00  \n1              1.072e+301  6.386e-302    5.283e+269 -7.720e+271  \n2                     inf   0.000e+00           inf        -inf  ",
      "text/html": "<div>\n<style scoped>\n    .dataframe tbody tr th:only-of-type {\n        vertical-align: middle;\n    }\n\n    .dataframe tbody tr th {\n        vertical-align: top;\n    }\n\n    .dataframe thead th {\n        text-align: right;\n    }\n</style>\n<table border=\"1\" class=\"dataframe\">\n  <thead>\n    <tr style=\"text-align: right;\">\n      <th></th>\n      <th>Algorithm</th>\n      <th>Sequence size</th>\n      <th>Subsequence size</th>\n      <th>Empirical RT (ms)</th>\n      <th>Theoretical complexity</th>\n      <th>Ratio</th>\n      <th>Predicted RT</th>\n      <th>% error</th>\n    </tr>\n  </thead>\n  <tbody>\n    <tr>\n      <th>0</th>\n      <td>Brute force</td>\n      <td>1000</td>\n      <td>100</td>\n      <td>0.063</td>\n      <td>1.268e+30</td>\n      <td>4.930e-32</td>\n      <td>6.250e-02</td>\n      <td>0.000e+00</td>\n    </tr>\n    <tr>\n      <th>1</th>\n      <td>Brute force</td>\n      <td>10000</td>\n      <td>1000</td>\n      <td>0.684</td>\n      <td>1.072e+301</td>\n      <td>6.386e-302</td>\n      <td>5.283e+269</td>\n      <td>-7.720e+271</td>\n    </tr>\n    <tr>\n      <th>2</th>\n      <td>Brute force</td>\n      <td>100000</td>\n      <td>10000</td>\n      <td>6.109</td>\n      <td>inf</td>\n      <td>0.000e+00</td>\n      <td>inf</td>\n      <td>-inf</td>\n    </tr>\n  </tbody>\n</table>\n</div>"
     },
     "metadata": {}
    }
   ],
   "source": [
    "rt_bf, c = m.add_analysis(rt_results_summary, m.ALG_BRUTE_FORCE)\n",
    "print('c={}'.format(c))\n",
    "display(rt_bf)"
   ]
  },
  {
   "cell_type": "markdown",
   "metadata": {},
   "source": [
    "### Dynamic programming analysis"
   ]
  },
  {
   "cell_type": "code",
   "execution_count": 7,
   "metadata": {},
   "outputs": [
    {
     "output_type": "stream",
     "name": "stdout",
     "text": "c=0.0001700400000000037\n"
    },
    {
     "output_type": "display_data",
     "data": {
      "text/plain": "             Algorithm  Sequence size  Subsequence size  Empirical RT (ms)  \\\n3  Dynamic programming           1000               100             17.004   \n4  Dynamic programming          10000              1000           1534.184   \n5  Dynamic programming         100000             10000         155446.082   \n\n   Theoretical complexity      Ratio  Predicted RT  % error  \n3                  100000  1.700e-04        17.004    0.000  \n4                10000000  1.534e-04      1700.400  -10.834  \n5              1000000000  1.554e-04    170040.000   -9.388  ",
      "text/html": "<div>\n<style scoped>\n    .dataframe tbody tr th:only-of-type {\n        vertical-align: middle;\n    }\n\n    .dataframe tbody tr th {\n        vertical-align: top;\n    }\n\n    .dataframe thead th {\n        text-align: right;\n    }\n</style>\n<table border=\"1\" class=\"dataframe\">\n  <thead>\n    <tr style=\"text-align: right;\">\n      <th></th>\n      <th>Algorithm</th>\n      <th>Sequence size</th>\n      <th>Subsequence size</th>\n      <th>Empirical RT (ms)</th>\n      <th>Theoretical complexity</th>\n      <th>Ratio</th>\n      <th>Predicted RT</th>\n      <th>% error</th>\n    </tr>\n  </thead>\n  <tbody>\n    <tr>\n      <th>3</th>\n      <td>Dynamic programming</td>\n      <td>1000</td>\n      <td>100</td>\n      <td>17.004</td>\n      <td>100000</td>\n      <td>1.700e-04</td>\n      <td>17.004</td>\n      <td>0.000</td>\n    </tr>\n    <tr>\n      <th>4</th>\n      <td>Dynamic programming</td>\n      <td>10000</td>\n      <td>1000</td>\n      <td>1534.184</td>\n      <td>10000000</td>\n      <td>1.534e-04</td>\n      <td>1700.400</td>\n      <td>-10.834</td>\n    </tr>\n    <tr>\n      <th>5</th>\n      <td>Dynamic programming</td>\n      <td>100000</td>\n      <td>10000</td>\n      <td>155446.082</td>\n      <td>1000000000</td>\n      <td>1.554e-04</td>\n      <td>170040.000</td>\n      <td>-9.388</td>\n    </tr>\n  </tbody>\n</table>\n</div>"
     },
     "metadata": {}
    }
   ],
   "source": [
    "rt_dp, c = m.add_analysis(rt_results_summary, m.ALG_DYNAMIC_PROGRAMMING)\n",
    "print('c={}'.format(c))\n",
    "display(rt_dp)"
   ]
  },
  {
   "cell_type": "markdown",
   "metadata": {},
   "source": [
    "### Hirschberg analysis"
   ]
  },
  {
   "cell_type": "code",
   "execution_count": 8,
   "metadata": {},
   "outputs": [
    {
     "output_type": "stream",
     "name": "stdout",
     "text": "c=0.00035454299999999786\n"
    },
    {
     "output_type": "display_data",
     "data": {
      "text/plain": "    Algorithm  Sequence size  Subsequence size  Empirical RT (ms)  \\\n6  Hirschberg           1000               100             35.454   \n7  Hirschberg          10000              1000           3183.443   \n8  Hirschberg         100000             10000         297822.916   \n\n   Theoretical complexity      Ratio  Predicted RT  % error  \n6                  100000  3.545e-04        35.454    0.000  \n7                10000000  3.183e-04      3545.430  -11.371  \n8              1000000000  2.978e-04    354543.000  -19.045  ",
      "text/html": "<div>\n<style scoped>\n    .dataframe tbody tr th:only-of-type {\n        vertical-align: middle;\n    }\n\n    .dataframe tbody tr th {\n        vertical-align: top;\n    }\n\n    .dataframe thead th {\n        text-align: right;\n    }\n</style>\n<table border=\"1\" class=\"dataframe\">\n  <thead>\n    <tr style=\"text-align: right;\">\n      <th></th>\n      <th>Algorithm</th>\n      <th>Sequence size</th>\n      <th>Subsequence size</th>\n      <th>Empirical RT (ms)</th>\n      <th>Theoretical complexity</th>\n      <th>Ratio</th>\n      <th>Predicted RT</th>\n      <th>% error</th>\n    </tr>\n  </thead>\n  <tbody>\n    <tr>\n      <th>6</th>\n      <td>Hirschberg</td>\n      <td>1000</td>\n      <td>100</td>\n      <td>35.454</td>\n      <td>100000</td>\n      <td>3.545e-04</td>\n      <td>35.454</td>\n      <td>0.000</td>\n    </tr>\n    <tr>\n      <th>7</th>\n      <td>Hirschberg</td>\n      <td>10000</td>\n      <td>1000</td>\n      <td>3183.443</td>\n      <td>10000000</td>\n      <td>3.183e-04</td>\n      <td>3545.430</td>\n      <td>-11.371</td>\n    </tr>\n    <tr>\n      <th>8</th>\n      <td>Hirschberg</td>\n      <td>100000</td>\n      <td>10000</td>\n      <td>297822.916</td>\n      <td>1000000000</td>\n      <td>2.978e-04</td>\n      <td>354543.000</td>\n      <td>-19.045</td>\n    </tr>\n  </tbody>\n</table>\n</div>"
     },
     "metadata": {}
    }
   ],
   "source": [
    "rt_h, c = m.add_analysis(rt_results_summary, m.ALG_HIRSCHBERG)\n",
    "print('c={}'.format(c))\n",
    "display(rt_h)"
   ]
  },
  {
   "cell_type": "markdown",
   "metadata": {},
   "source": [
    "### Space usage and analysis"
   ]
  },
  {
   "cell_type": "code",
   "execution_count": 9,
   "metadata": {},
   "outputs": [
    {
     "output_type": "stream",
     "name": "stdout",
     "text": "Loading from file\n"
    }
   ],
   "source": [
    "mem_results_raw, mem_results_summary = m.memory(verbose=1, file='memory')"
   ]
  },
  {
   "cell_type": "code",
   "execution_count": 16,
   "metadata": {},
   "outputs": [
    {
     "output_type": "display_data",
     "data": {
      "text/plain": "<Figure size 432x288 with 1 Axes>",
      "image/svg+xml": "<?xml version=\"1.0\" encoding=\"utf-8\" standalone=\"no\"?>\n<!DOCTYPE svg PUBLIC \"-//W3C//DTD SVG 1.1//EN\"\n  \"http://www.w3.org/Graphics/SVG/1.1/DTD/svg11.dtd\">\n<!-- Created with matplotlib (https://matplotlib.org/) -->\n<svg height=\"281.286094pt\" version=\"1.1\" viewBox=\"0 0 422.257122 281.286094\" width=\"422.257122pt\" xmlns=\"http://www.w3.org/2000/svg\" xmlns:xlink=\"http://www.w3.org/1999/xlink\">\n <defs>\n  <style type=\"text/css\">\n*{stroke-linecap:butt;stroke-linejoin:round;}\n  </style>\n </defs>\n <g id=\"figure_1\">\n  <g id=\"patch_1\">\n   <path d=\"M 0 281.286094 \nL 422.257122 281.286094 \nL 422.257122 0 \nL 0 0 \nz\n\" style=\"fill:#ffffff;\"/>\n  </g>\n  <g id=\"axes_1\">\n   <g id=\"patch_2\">\n    <path d=\"M 68.522813 239.265 \nL 403.322812 239.265 \nL 403.322812 21.825 \nL 68.522813 21.825 \nz\n\" style=\"fill:#ffffff;\"/>\n   </g>\n   <g id=\"matplotlib.axis_1\">\n    <g id=\"xtick_1\">\n     <g id=\"line2d_1\">\n      <path clip-path=\"url(#p56ae2bb6c0)\" d=\"M 68.522813 239.265 \nL 68.522813 21.825 \n\" style=\"fill:none;stroke:#cccccc;stroke-linecap:round;\"/>\n     </g>\n     <g id=\"text_1\">\n      <!-- 0 -->\n      <defs>\n       <path d=\"M 4.15625 35.296875 \nQ 4.15625 48 6.765625 55.734375 \nQ 9.375 63.484375 14.515625 67.671875 \nQ 19.671875 71.875 27.484375 71.875 \nQ 33.25 71.875 37.59375 69.546875 \nQ 41.9375 67.234375 44.765625 62.859375 \nQ 47.609375 58.5 49.21875 52.21875 \nQ 50.828125 45.953125 50.828125 35.296875 \nQ 50.828125 22.703125 48.234375 14.96875 \nQ 45.65625 7.234375 40.5 3 \nQ 35.359375 -1.21875 27.484375 -1.21875 \nQ 17.140625 -1.21875 11.234375 6.203125 \nQ 4.15625 15.140625 4.15625 35.296875 \nz\nM 13.1875 35.296875 \nQ 13.1875 17.671875 17.3125 11.828125 \nQ 21.4375 6 27.484375 6 \nQ 33.546875 6 37.671875 11.859375 \nQ 41.796875 17.71875 41.796875 35.296875 \nQ 41.796875 52.984375 37.671875 58.78125 \nQ 33.546875 64.59375 27.390625 64.59375 \nQ 21.34375 64.59375 17.71875 59.46875 \nQ 13.1875 52.9375 13.1875 35.296875 \nz\n\" id=\"ArialMT-48\"/>\n      </defs>\n      <g style=\"fill:#262626;\" transform=\"translate(65.464297 256.638594)scale(0.11 -0.11)\">\n       <use xlink:href=\"#ArialMT-48\"/>\n      </g>\n     </g>\n    </g>\n    <g id=\"xtick_2\">\n     <g id=\"line2d_2\">\n      <path clip-path=\"url(#p56ae2bb6c0)\" d=\"M 110.310343 239.265 \nL 110.310343 21.825 \n\" style=\"fill:none;stroke:#cccccc;stroke-linecap:round;\"/>\n     </g>\n     <g id=\"text_2\">\n      <!-- 500 -->\n      <defs>\n       <path d=\"M 4.15625 18.75 \nL 13.375 19.53125 \nQ 14.40625 12.796875 18.140625 9.390625 \nQ 21.875 6 27.15625 6 \nQ 33.5 6 37.890625 10.78125 \nQ 42.28125 15.578125 42.28125 23.484375 \nQ 42.28125 31 38.0625 35.34375 \nQ 33.84375 39.703125 27 39.703125 \nQ 22.75 39.703125 19.328125 37.765625 \nQ 15.921875 35.84375 13.96875 32.765625 \nL 5.71875 33.84375 \nL 12.640625 70.609375 \nL 48.25 70.609375 \nL 48.25 62.203125 \nL 19.671875 62.203125 \nL 15.828125 42.96875 \nQ 22.265625 47.46875 29.34375 47.46875 \nQ 38.71875 47.46875 45.15625 40.96875 \nQ 51.609375 34.46875 51.609375 24.265625 \nQ 51.609375 14.546875 45.953125 7.46875 \nQ 39.0625 -1.21875 27.15625 -1.21875 \nQ 17.390625 -1.21875 11.203125 4.25 \nQ 5.03125 9.71875 4.15625 18.75 \nz\n\" id=\"ArialMT-53\"/>\n      </defs>\n      <g style=\"fill:#262626;\" transform=\"translate(101.134797 256.638594)scale(0.11 -0.11)\">\n       <use xlink:href=\"#ArialMT-53\"/>\n       <use x=\"55.615234\" xlink:href=\"#ArialMT-48\"/>\n       <use x=\"111.230469\" xlink:href=\"#ArialMT-48\"/>\n      </g>\n     </g>\n    </g>\n    <g id=\"xtick_3\">\n     <g id=\"line2d_3\">\n      <path clip-path=\"url(#p56ae2bb6c0)\" d=\"M 152.097874 239.265 \nL 152.097874 21.825 \n\" style=\"fill:none;stroke:#cccccc;stroke-linecap:round;\"/>\n     </g>\n     <g id=\"text_3\">\n      <!-- 1000 -->\n      <defs>\n       <path d=\"M 37.25 0 \nL 28.46875 0 \nL 28.46875 56 \nQ 25.296875 52.984375 20.140625 49.953125 \nQ 14.984375 46.921875 10.890625 45.40625 \nL 10.890625 53.90625 \nQ 18.265625 57.375 23.78125 62.296875 \nQ 29.296875 67.234375 31.59375 71.875 \nL 37.25 71.875 \nz\n\" id=\"ArialMT-49\"/>\n      </defs>\n      <g style=\"fill:#262626;\" transform=\"translate(139.863812 256.638594)scale(0.11 -0.11)\">\n       <use xlink:href=\"#ArialMT-49\"/>\n       <use x=\"55.615234\" xlink:href=\"#ArialMT-48\"/>\n       <use x=\"111.230469\" xlink:href=\"#ArialMT-48\"/>\n       <use x=\"166.845703\" xlink:href=\"#ArialMT-48\"/>\n      </g>\n     </g>\n    </g>\n    <g id=\"xtick_4\">\n     <g id=\"line2d_4\">\n      <path clip-path=\"url(#p56ae2bb6c0)\" d=\"M 193.885405 239.265 \nL 193.885405 21.825 \n\" style=\"fill:none;stroke:#cccccc;stroke-linecap:round;\"/>\n     </g>\n     <g id=\"text_4\">\n      <!-- 1500 -->\n      <g style=\"fill:#262626;\" transform=\"translate(181.651343 256.638594)scale(0.11 -0.11)\">\n       <use xlink:href=\"#ArialMT-49\"/>\n       <use x=\"55.615234\" xlink:href=\"#ArialMT-53\"/>\n       <use x=\"111.230469\" xlink:href=\"#ArialMT-48\"/>\n       <use x=\"166.845703\" xlink:href=\"#ArialMT-48\"/>\n      </g>\n     </g>\n    </g>\n    <g id=\"xtick_5\">\n     <g id=\"line2d_5\">\n      <path clip-path=\"url(#p56ae2bb6c0)\" d=\"M 235.672936 239.265 \nL 235.672936 21.825 \n\" style=\"fill:none;stroke:#cccccc;stroke-linecap:round;\"/>\n     </g>\n     <g id=\"text_5\">\n      <!-- 2000 -->\n      <defs>\n       <path d=\"M 50.34375 8.453125 \nL 50.34375 0 \nL 3.03125 0 \nQ 2.9375 3.171875 4.046875 6.109375 \nQ 5.859375 10.9375 9.828125 15.625 \nQ 13.8125 20.3125 21.34375 26.46875 \nQ 33.015625 36.03125 37.109375 41.625 \nQ 41.21875 47.21875 41.21875 52.203125 \nQ 41.21875 57.421875 37.46875 61 \nQ 33.734375 64.59375 27.734375 64.59375 \nQ 21.390625 64.59375 17.578125 60.78125 \nQ 13.765625 56.984375 13.71875 50.25 \nL 4.6875 51.171875 \nQ 5.609375 61.28125 11.65625 66.578125 \nQ 17.71875 71.875 27.9375 71.875 \nQ 38.234375 71.875 44.234375 66.15625 \nQ 50.25 60.453125 50.25 52 \nQ 50.25 47.703125 48.484375 43.546875 \nQ 46.734375 39.40625 42.65625 34.8125 \nQ 38.578125 30.21875 29.109375 22.21875 \nQ 21.1875 15.578125 18.9375 13.203125 \nQ 16.703125 10.84375 15.234375 8.453125 \nz\n\" id=\"ArialMT-50\"/>\n      </defs>\n      <g style=\"fill:#262626;\" transform=\"translate(223.438874 256.638594)scale(0.11 -0.11)\">\n       <use xlink:href=\"#ArialMT-50\"/>\n       <use x=\"55.615234\" xlink:href=\"#ArialMT-48\"/>\n       <use x=\"111.230469\" xlink:href=\"#ArialMT-48\"/>\n       <use x=\"166.845703\" xlink:href=\"#ArialMT-48\"/>\n      </g>\n     </g>\n    </g>\n    <g id=\"xtick_6\">\n     <g id=\"line2d_6\">\n      <path clip-path=\"url(#p56ae2bb6c0)\" d=\"M 277.460467 239.265 \nL 277.460467 21.825 \n\" style=\"fill:none;stroke:#cccccc;stroke-linecap:round;\"/>\n     </g>\n     <g id=\"text_6\">\n      <!-- 2500 -->\n      <g style=\"fill:#262626;\" transform=\"translate(265.226405 256.638594)scale(0.11 -0.11)\">\n       <use xlink:href=\"#ArialMT-50\"/>\n       <use x=\"55.615234\" xlink:href=\"#ArialMT-53\"/>\n       <use x=\"111.230469\" xlink:href=\"#ArialMT-48\"/>\n       <use x=\"166.845703\" xlink:href=\"#ArialMT-48\"/>\n      </g>\n     </g>\n    </g>\n    <g id=\"xtick_7\">\n     <g id=\"line2d_7\">\n      <path clip-path=\"url(#p56ae2bb6c0)\" d=\"M 319.247998 239.265 \nL 319.247998 21.825 \n\" style=\"fill:none;stroke:#cccccc;stroke-linecap:round;\"/>\n     </g>\n     <g id=\"text_7\">\n      <!-- 3000 -->\n      <defs>\n       <path d=\"M 4.203125 18.890625 \nL 12.984375 20.0625 \nQ 14.5 12.59375 18.140625 9.296875 \nQ 21.78125 6 27 6 \nQ 33.203125 6 37.46875 10.296875 \nQ 41.75 14.59375 41.75 20.953125 \nQ 41.75 27 37.796875 30.921875 \nQ 33.84375 34.859375 27.734375 34.859375 \nQ 25.25 34.859375 21.53125 33.890625 \nL 22.515625 41.609375 \nQ 23.390625 41.5 23.921875 41.5 \nQ 29.546875 41.5 34.03125 44.421875 \nQ 38.53125 47.359375 38.53125 53.46875 \nQ 38.53125 58.296875 35.25 61.46875 \nQ 31.984375 64.65625 26.8125 64.65625 \nQ 21.6875 64.65625 18.265625 61.421875 \nQ 14.84375 58.203125 13.875 51.765625 \nL 5.078125 53.328125 \nQ 6.6875 62.15625 12.390625 67.015625 \nQ 18.109375 71.875 26.609375 71.875 \nQ 32.46875 71.875 37.390625 69.359375 \nQ 42.328125 66.84375 44.9375 62.5 \nQ 47.5625 58.15625 47.5625 53.265625 \nQ 47.5625 48.640625 45.0625 44.828125 \nQ 42.578125 41.015625 37.703125 38.765625 \nQ 44.046875 37.3125 47.5625 32.6875 \nQ 51.078125 28.078125 51.078125 21.140625 \nQ 51.078125 11.765625 44.234375 5.25 \nQ 37.40625 -1.265625 26.953125 -1.265625 \nQ 17.53125 -1.265625 11.296875 4.34375 \nQ 5.078125 9.96875 4.203125 18.890625 \nz\n\" id=\"ArialMT-51\"/>\n      </defs>\n      <g style=\"fill:#262626;\" transform=\"translate(307.013935 256.638594)scale(0.11 -0.11)\">\n       <use xlink:href=\"#ArialMT-51\"/>\n       <use x=\"55.615234\" xlink:href=\"#ArialMT-48\"/>\n       <use x=\"111.230469\" xlink:href=\"#ArialMT-48\"/>\n       <use x=\"166.845703\" xlink:href=\"#ArialMT-48\"/>\n      </g>\n     </g>\n    </g>\n    <g id=\"xtick_8\">\n     <g id=\"line2d_8\">\n      <path clip-path=\"url(#p56ae2bb6c0)\" d=\"M 361.035529 239.265 \nL 361.035529 21.825 \n\" style=\"fill:none;stroke:#cccccc;stroke-linecap:round;\"/>\n     </g>\n     <g id=\"text_8\">\n      <!-- 3500 -->\n      <g style=\"fill:#262626;\" transform=\"translate(348.801466 256.638594)scale(0.11 -0.11)\">\n       <use xlink:href=\"#ArialMT-51\"/>\n       <use x=\"55.615234\" xlink:href=\"#ArialMT-53\"/>\n       <use x=\"111.230469\" xlink:href=\"#ArialMT-48\"/>\n       <use x=\"166.845703\" xlink:href=\"#ArialMT-48\"/>\n      </g>\n     </g>\n    </g>\n    <g id=\"xtick_9\">\n     <g id=\"line2d_9\">\n      <path clip-path=\"url(#p56ae2bb6c0)\" d=\"M 402.82306 239.265 \nL 402.82306 21.825 \n\" style=\"fill:none;stroke:#cccccc;stroke-linecap:round;\"/>\n     </g>\n     <g id=\"text_9\">\n      <!-- 4000 -->\n      <defs>\n       <path d=\"M 32.328125 0 \nL 32.328125 17.140625 \nL 1.265625 17.140625 \nL 1.265625 25.203125 \nL 33.9375 71.578125 \nL 41.109375 71.578125 \nL 41.109375 25.203125 \nL 50.78125 25.203125 \nL 50.78125 17.140625 \nL 41.109375 17.140625 \nL 41.109375 0 \nz\nM 32.328125 25.203125 \nL 32.328125 57.46875 \nL 9.90625 25.203125 \nz\n\" id=\"ArialMT-52\"/>\n      </defs>\n      <g style=\"fill:#262626;\" transform=\"translate(390.588997 256.638594)scale(0.11 -0.11)\">\n       <use xlink:href=\"#ArialMT-52\"/>\n       <use x=\"55.615234\" xlink:href=\"#ArialMT-48\"/>\n       <use x=\"111.230469\" xlink:href=\"#ArialMT-48\"/>\n       <use x=\"166.845703\" xlink:href=\"#ArialMT-48\"/>\n      </g>\n     </g>\n    </g>\n    <g id=\"text_10\">\n     <!-- Memory (KiB) -->\n     <defs>\n      <path d=\"M 7.421875 0 \nL 7.421875 71.578125 \nL 21.6875 71.578125 \nL 38.625 20.90625 \nQ 40.96875 13.8125 42.046875 10.296875 \nQ 43.265625 14.203125 45.84375 21.78125 \nL 62.984375 71.578125 \nL 75.734375 71.578125 \nL 75.734375 0 \nL 66.609375 0 \nL 66.609375 59.90625 \nL 45.796875 0 \nL 37.25 0 \nL 16.546875 60.9375 \nL 16.546875 0 \nz\n\" id=\"ArialMT-77\"/>\n      <path d=\"M 42.09375 16.703125 \nL 51.171875 15.578125 \nQ 49.03125 7.625 43.21875 3.21875 \nQ 37.40625 -1.171875 28.375 -1.171875 \nQ 17 -1.171875 10.328125 5.828125 \nQ 3.65625 12.84375 3.65625 25.484375 \nQ 3.65625 38.578125 10.390625 45.796875 \nQ 17.140625 53.03125 27.875 53.03125 \nQ 38.28125 53.03125 44.875 45.953125 \nQ 51.46875 38.875 51.46875 26.03125 \nQ 51.46875 25.25 51.421875 23.6875 \nL 12.75 23.6875 \nQ 13.234375 15.140625 17.578125 10.59375 \nQ 21.921875 6.0625 28.421875 6.0625 \nQ 33.25 6.0625 36.671875 8.59375 \nQ 40.09375 11.140625 42.09375 16.703125 \nz\nM 13.234375 30.90625 \nL 42.1875 30.90625 \nQ 41.609375 37.453125 38.875 40.71875 \nQ 34.671875 45.796875 27.984375 45.796875 \nQ 21.921875 45.796875 17.796875 41.75 \nQ 13.671875 37.703125 13.234375 30.90625 \nz\n\" id=\"ArialMT-101\"/>\n      <path d=\"M 6.59375 0 \nL 6.59375 51.859375 \nL 14.453125 51.859375 \nL 14.453125 44.578125 \nQ 16.890625 48.390625 20.9375 50.703125 \nQ 25 53.03125 30.171875 53.03125 \nQ 35.9375 53.03125 39.625 50.640625 \nQ 43.3125 48.25 44.828125 43.953125 \nQ 50.984375 53.03125 60.84375 53.03125 \nQ 68.5625 53.03125 72.703125 48.75 \nQ 76.859375 44.484375 76.859375 35.59375 \nL 76.859375 0 \nL 68.109375 0 \nL 68.109375 32.671875 \nQ 68.109375 37.9375 67.25 40.25 \nQ 66.40625 42.578125 64.15625 43.984375 \nQ 61.921875 45.40625 58.890625 45.40625 \nQ 53.421875 45.40625 49.796875 41.765625 \nQ 46.1875 38.140625 46.1875 30.125 \nL 46.1875 0 \nL 37.40625 0 \nL 37.40625 33.6875 \nQ 37.40625 39.546875 35.25 42.46875 \nQ 33.109375 45.40625 28.21875 45.40625 \nQ 24.515625 45.40625 21.359375 43.453125 \nQ 18.21875 41.5 16.796875 37.734375 \nQ 15.375 33.984375 15.375 26.90625 \nL 15.375 0 \nz\n\" id=\"ArialMT-109\"/>\n      <path d=\"M 3.328125 25.921875 \nQ 3.328125 40.328125 11.328125 47.265625 \nQ 18.015625 53.03125 27.640625 53.03125 \nQ 38.328125 53.03125 45.109375 46.015625 \nQ 51.90625 39.015625 51.90625 26.65625 \nQ 51.90625 16.65625 48.90625 10.90625 \nQ 45.90625 5.171875 40.15625 2 \nQ 34.421875 -1.171875 27.640625 -1.171875 \nQ 16.75 -1.171875 10.03125 5.8125 \nQ 3.328125 12.796875 3.328125 25.921875 \nz\nM 12.359375 25.921875 \nQ 12.359375 15.96875 16.703125 11.015625 \nQ 21.046875 6.0625 27.640625 6.0625 \nQ 34.1875 6.0625 38.53125 11.03125 \nQ 42.875 16.015625 42.875 26.21875 \nQ 42.875 35.84375 38.5 40.796875 \nQ 34.125 45.75 27.640625 45.75 \nQ 21.046875 45.75 16.703125 40.8125 \nQ 12.359375 35.890625 12.359375 25.921875 \nz\n\" id=\"ArialMT-111\"/>\n      <path d=\"M 6.5 0 \nL 6.5 51.859375 \nL 14.40625 51.859375 \nL 14.40625 44 \nQ 17.4375 49.515625 20 51.265625 \nQ 22.5625 53.03125 25.640625 53.03125 \nQ 30.078125 53.03125 34.671875 50.203125 \nL 31.640625 42.046875 \nQ 28.421875 43.953125 25.203125 43.953125 \nQ 22.3125 43.953125 20.015625 42.21875 \nQ 17.71875 40.484375 16.75 37.40625 \nQ 15.28125 32.71875 15.28125 27.15625 \nL 15.28125 0 \nz\n\" id=\"ArialMT-114\"/>\n      <path d=\"M 6.203125 -19.96875 \nL 5.21875 -11.71875 \nQ 8.109375 -12.5 10.25 -12.5 \nQ 13.1875 -12.5 14.9375 -11.515625 \nQ 16.703125 -10.546875 17.828125 -8.796875 \nQ 18.65625 -7.46875 20.515625 -2.25 \nQ 20.75 -1.515625 21.296875 -0.09375 \nL 1.609375 51.859375 \nL 11.078125 51.859375 \nL 21.875 21.828125 \nQ 23.96875 16.109375 25.640625 9.8125 \nQ 27.15625 15.875 29.25 21.625 \nL 40.328125 51.859375 \nL 49.125 51.859375 \nL 29.390625 -0.875 \nQ 26.21875 -9.421875 24.46875 -12.640625 \nQ 22.125 -17 19.09375 -19.015625 \nQ 16.0625 -21.046875 11.859375 -21.046875 \nQ 9.328125 -21.046875 6.203125 -19.96875 \nz\n\" id=\"ArialMT-121\"/>\n      <path id=\"ArialMT-32\"/>\n      <path d=\"M 23.390625 -21.046875 \nQ 16.109375 -11.859375 11.078125 0.4375 \nQ 6.0625 12.75 6.0625 25.921875 \nQ 6.0625 37.546875 9.8125 48.1875 \nQ 14.203125 60.546875 23.390625 72.796875 \nL 29.6875 72.796875 \nQ 23.78125 62.640625 21.875 58.296875 \nQ 18.890625 51.5625 17.1875 44.234375 \nQ 15.09375 35.109375 15.09375 25.875 \nQ 15.09375 2.390625 29.6875 -21.046875 \nz\n\" id=\"ArialMT-40\"/>\n      <path d=\"M 7.328125 0 \nL 7.328125 71.578125 \nL 16.796875 71.578125 \nL 16.796875 36.078125 \nL 52.34375 71.578125 \nL 65.1875 71.578125 \nL 35.15625 42.578125 \nL 66.5 0 \nL 54 0 \nL 28.515625 36.234375 \nL 16.796875 24.8125 \nL 16.796875 0 \nz\n\" id=\"ArialMT-75\"/>\n      <path d=\"M 6.640625 61.46875 \nL 6.640625 71.578125 \nL 15.4375 71.578125 \nL 15.4375 61.46875 \nz\nM 6.640625 0 \nL 6.640625 51.859375 \nL 15.4375 51.859375 \nL 15.4375 0 \nz\n\" id=\"ArialMT-105\"/>\n      <path d=\"M 7.328125 0 \nL 7.328125 71.578125 \nL 34.1875 71.578125 \nQ 42.390625 71.578125 47.34375 69.40625 \nQ 52.296875 67.234375 55.09375 62.71875 \nQ 57.90625 58.203125 57.90625 53.265625 \nQ 57.90625 48.6875 55.421875 44.625 \nQ 52.9375 40.578125 47.90625 38.09375 \nQ 54.390625 36.1875 57.875 31.59375 \nQ 61.375 27 61.375 20.75 \nQ 61.375 15.71875 59.25 11.390625 \nQ 57.125 7.078125 54 4.734375 \nQ 50.875 2.390625 46.15625 1.1875 \nQ 41.453125 0 34.625 0 \nz\nM 16.796875 41.5 \nL 32.28125 41.5 \nQ 38.578125 41.5 41.3125 42.328125 \nQ 44.921875 43.40625 46.75 45.890625 \nQ 48.578125 48.390625 48.578125 52.15625 \nQ 48.578125 55.71875 46.875 58.421875 \nQ 45.171875 61.140625 41.984375 62.140625 \nQ 38.8125 63.140625 31.109375 63.140625 \nL 16.796875 63.140625 \nz\nM 16.796875 8.453125 \nL 34.625 8.453125 \nQ 39.203125 8.453125 41.0625 8.796875 \nQ 44.34375 9.375 46.53125 10.734375 \nQ 48.734375 12.109375 50.140625 14.71875 \nQ 51.5625 17.328125 51.5625 20.75 \nQ 51.5625 24.75 49.515625 27.703125 \nQ 47.46875 30.671875 43.828125 31.859375 \nQ 40.1875 33.0625 33.34375 33.0625 \nL 16.796875 33.0625 \nz\n\" id=\"ArialMT-66\"/>\n      <path d=\"M 12.359375 -21.046875 \nL 6.0625 -21.046875 \nQ 20.65625 2.390625 20.65625 25.875 \nQ 20.65625 35.0625 18.5625 44.09375 \nQ 16.890625 51.421875 13.921875 58.15625 \nQ 12.015625 62.546875 6.0625 72.796875 \nL 12.359375 72.796875 \nQ 21.53125 60.546875 25.921875 48.1875 \nQ 29.6875 37.546875 29.6875 25.921875 \nQ 29.6875 12.75 24.625 0.4375 \nQ 19.578125 -11.859375 12.359375 -21.046875 \nz\n\" id=\"ArialMT-41\"/>\n     </defs>\n     <g style=\"fill:#262626;\" transform=\"translate(199.25625 271.560469)scale(0.12 -0.12)\">\n      <use xlink:href=\"#ArialMT-77\"/>\n      <use x=\"83.300781\" xlink:href=\"#ArialMT-101\"/>\n      <use x=\"138.916016\" xlink:href=\"#ArialMT-109\"/>\n      <use x=\"222.216797\" xlink:href=\"#ArialMT-111\"/>\n      <use x=\"277.832031\" xlink:href=\"#ArialMT-114\"/>\n      <use x=\"311.132812\" xlink:href=\"#ArialMT-121\"/>\n      <use x=\"361.132812\" xlink:href=\"#ArialMT-32\"/>\n      <use x=\"388.916016\" xlink:href=\"#ArialMT-40\"/>\n      <use x=\"422.216797\" xlink:href=\"#ArialMT-75\"/>\n      <use x=\"488.916016\" xlink:href=\"#ArialMT-105\"/>\n      <use x=\"511.132812\" xlink:href=\"#ArialMT-66\"/>\n      <use x=\"577.832031\" xlink:href=\"#ArialMT-41\"/>\n     </g>\n    </g>\n   </g>\n   <g id=\"matplotlib.axis_2\">\n    <g id=\"ytick_1\">\n     <g id=\"text_11\">\n      <!-- 1000 -->\n      <g style=\"fill:#262626;\" transform=\"translate(34.554688 62.001797)scale(0.11 -0.11)\">\n       <use xlink:href=\"#ArialMT-49\"/>\n       <use x=\"55.615234\" xlink:href=\"#ArialMT-48\"/>\n       <use x=\"111.230469\" xlink:href=\"#ArialMT-48\"/>\n       <use x=\"166.845703\" xlink:href=\"#ArialMT-48\"/>\n      </g>\n     </g>\n    </g>\n    <g id=\"ytick_2\">\n     <g id=\"text_12\">\n      <!-- 10000 -->\n      <g style=\"fill:#262626;\" transform=\"translate(28.437656 134.481797)scale(0.11 -0.11)\">\n       <use xlink:href=\"#ArialMT-49\"/>\n       <use x=\"55.615234\" xlink:href=\"#ArialMT-48\"/>\n       <use x=\"111.230469\" xlink:href=\"#ArialMT-48\"/>\n       <use x=\"166.845703\" xlink:href=\"#ArialMT-48\"/>\n       <use x=\"222.460938\" xlink:href=\"#ArialMT-48\"/>\n      </g>\n     </g>\n    </g>\n    <g id=\"ytick_3\">\n     <g id=\"text_13\">\n      <!-- 100000 -->\n      <g style=\"fill:#262626;\" transform=\"translate(22.320625 206.961797)scale(0.11 -0.11)\">\n       <use xlink:href=\"#ArialMT-49\"/>\n       <use x=\"55.615234\" xlink:href=\"#ArialMT-48\"/>\n       <use x=\"111.230469\" xlink:href=\"#ArialMT-48\"/>\n       <use x=\"166.845703\" xlink:href=\"#ArialMT-48\"/>\n       <use x=\"222.460938\" xlink:href=\"#ArialMT-48\"/>\n       <use x=\"278.076172\" xlink:href=\"#ArialMT-48\"/>\n      </g>\n     </g>\n    </g>\n    <g id=\"text_14\">\n     <!-- Sequence size -->\n     <defs>\n      <path d=\"M 4.5 23 \nL 13.421875 23.78125 \nQ 14.0625 18.40625 16.375 14.96875 \nQ 18.703125 11.53125 23.578125 9.40625 \nQ 28.46875 7.28125 34.578125 7.28125 \nQ 39.984375 7.28125 44.140625 8.890625 \nQ 48.296875 10.5 50.3125 13.296875 \nQ 52.34375 16.109375 52.34375 19.4375 \nQ 52.34375 22.796875 50.390625 25.3125 \nQ 48.4375 27.828125 43.953125 29.546875 \nQ 41.0625 30.671875 31.203125 33.03125 \nQ 21.34375 35.40625 17.390625 37.5 \nQ 12.25 40.1875 9.734375 44.15625 \nQ 7.234375 48.140625 7.234375 53.078125 \nQ 7.234375 58.5 10.296875 63.203125 \nQ 13.375 67.921875 19.28125 70.359375 \nQ 25.203125 72.796875 32.421875 72.796875 \nQ 40.375 72.796875 46.453125 70.234375 \nQ 52.546875 67.671875 55.8125 62.6875 \nQ 59.078125 57.71875 59.328125 51.421875 \nL 50.25 50.734375 \nQ 49.515625 57.515625 45.28125 60.984375 \nQ 41.0625 64.453125 32.8125 64.453125 \nQ 24.21875 64.453125 20.28125 61.296875 \nQ 16.359375 58.15625 16.359375 53.71875 \nQ 16.359375 49.859375 19.140625 47.359375 \nQ 21.875 44.875 33.421875 42.265625 \nQ 44.96875 39.65625 49.265625 37.703125 \nQ 55.515625 34.8125 58.484375 30.390625 \nQ 61.46875 25.984375 61.46875 20.21875 \nQ 61.46875 14.5 58.203125 9.4375 \nQ 54.9375 4.390625 48.796875 1.578125 \nQ 42.671875 -1.21875 35.015625 -1.21875 \nQ 25.296875 -1.21875 18.71875 1.609375 \nQ 12.15625 4.4375 8.421875 10.125 \nQ 4.6875 15.828125 4.5 23 \nz\n\" id=\"ArialMT-83\"/>\n      <path d=\"M 39.65625 -19.875 \nL 39.65625 5.515625 \nQ 37.59375 2.640625 33.90625 0.734375 \nQ 30.21875 -1.171875 26.078125 -1.171875 \nQ 16.84375 -1.171875 10.171875 6.203125 \nQ 3.515625 13.578125 3.515625 26.421875 \nQ 3.515625 34.234375 6.21875 40.421875 \nQ 8.9375 46.625 14.078125 49.828125 \nQ 19.234375 53.03125 25.390625 53.03125 \nQ 35.015625 53.03125 40.53125 44.921875 \nL 40.53125 51.859375 \nL 48.4375 51.859375 \nL 48.4375 -19.875 \nz\nM 12.546875 26.078125 \nQ 12.546875 16.0625 16.75 11.0625 \nQ 20.953125 6.0625 26.8125 6.0625 \nQ 32.421875 6.0625 36.46875 10.8125 \nQ 40.53125 15.578125 40.53125 25.296875 \nQ 40.53125 35.640625 36.25 40.859375 \nQ 31.984375 46.09375 26.21875 46.09375 \nQ 20.515625 46.09375 16.53125 41.234375 \nQ 12.546875 36.375 12.546875 26.078125 \nz\n\" id=\"ArialMT-113\"/>\n      <path d=\"M 40.578125 0 \nL 40.578125 7.625 \nQ 34.515625 -1.171875 24.125 -1.171875 \nQ 19.53125 -1.171875 15.546875 0.578125 \nQ 11.578125 2.34375 9.640625 5 \nQ 7.71875 7.671875 6.9375 11.53125 \nQ 6.390625 14.109375 6.390625 19.734375 \nL 6.390625 51.859375 \nL 15.1875 51.859375 \nL 15.1875 23.09375 \nQ 15.1875 16.21875 15.71875 13.8125 \nQ 16.546875 10.359375 19.234375 8.375 \nQ 21.921875 6.390625 25.875 6.390625 \nQ 29.828125 6.390625 33.296875 8.421875 \nQ 36.765625 10.453125 38.203125 13.9375 \nQ 39.65625 17.4375 39.65625 24.078125 \nL 39.65625 51.859375 \nL 48.4375 51.859375 \nL 48.4375 0 \nz\n\" id=\"ArialMT-117\"/>\n      <path d=\"M 6.59375 0 \nL 6.59375 51.859375 \nL 14.5 51.859375 \nL 14.5 44.484375 \nQ 20.21875 53.03125 31 53.03125 \nQ 35.6875 53.03125 39.625 51.34375 \nQ 43.5625 49.65625 45.515625 46.921875 \nQ 47.46875 44.1875 48.25 40.4375 \nQ 48.734375 37.984375 48.734375 31.890625 \nL 48.734375 0 \nL 39.9375 0 \nL 39.9375 31.546875 \nQ 39.9375 36.921875 38.90625 39.578125 \nQ 37.890625 42.234375 35.28125 43.8125 \nQ 32.671875 45.40625 29.15625 45.40625 \nQ 23.53125 45.40625 19.453125 41.84375 \nQ 15.375 38.28125 15.375 28.328125 \nL 15.375 0 \nz\n\" id=\"ArialMT-110\"/>\n      <path d=\"M 40.4375 19 \nL 49.078125 17.875 \nQ 47.65625 8.9375 41.8125 3.875 \nQ 35.984375 -1.171875 27.484375 -1.171875 \nQ 16.84375 -1.171875 10.375 5.78125 \nQ 3.90625 12.75 3.90625 25.734375 \nQ 3.90625 34.125 6.6875 40.421875 \nQ 9.46875 46.734375 15.15625 49.875 \nQ 20.84375 53.03125 27.546875 53.03125 \nQ 35.984375 53.03125 41.359375 48.75 \nQ 46.734375 44.484375 48.25 36.625 \nL 39.703125 35.296875 \nQ 38.484375 40.53125 35.375 43.15625 \nQ 32.28125 45.796875 27.875 45.796875 \nQ 21.234375 45.796875 17.078125 41.03125 \nQ 12.9375 36.28125 12.9375 25.984375 \nQ 12.9375 15.53125 16.9375 10.796875 \nQ 20.953125 6.0625 27.390625 6.0625 \nQ 32.5625 6.0625 36.03125 9.234375 \nQ 39.5 12.40625 40.4375 19 \nz\n\" id=\"ArialMT-99\"/>\n      <path d=\"M 3.078125 15.484375 \nL 11.765625 16.84375 \nQ 12.5 11.625 15.84375 8.84375 \nQ 19.1875 6.0625 25.203125 6.0625 \nQ 31.25 6.0625 34.171875 8.515625 \nQ 37.109375 10.984375 37.109375 14.3125 \nQ 37.109375 17.28125 34.515625 19 \nQ 32.71875 20.171875 25.53125 21.96875 \nQ 15.875 24.421875 12.140625 26.203125 \nQ 8.40625 27.984375 6.46875 31.125 \nQ 4.546875 34.28125 4.546875 38.09375 \nQ 4.546875 41.546875 6.125 44.5 \nQ 7.71875 47.46875 10.453125 49.421875 \nQ 12.5 50.921875 16.03125 51.96875 \nQ 19.578125 53.03125 23.640625 53.03125 \nQ 29.734375 53.03125 34.34375 51.265625 \nQ 38.96875 49.515625 41.15625 46.5 \nQ 43.359375 43.5 44.1875 38.484375 \nL 35.59375 37.3125 \nQ 35.015625 41.3125 32.203125 43.546875 \nQ 29.390625 45.796875 24.265625 45.796875 \nQ 18.21875 45.796875 15.625 43.796875 \nQ 13.03125 41.796875 13.03125 39.109375 \nQ 13.03125 37.40625 14.109375 36.03125 \nQ 15.1875 34.625 17.484375 33.6875 \nQ 18.796875 33.203125 25.25 31.453125 \nQ 34.578125 28.953125 38.25 27.359375 \nQ 41.9375 25.78125 44.03125 22.75 \nQ 46.140625 19.734375 46.140625 15.234375 \nQ 46.140625 10.84375 43.578125 6.953125 \nQ 41.015625 3.078125 36.171875 0.953125 \nQ 31.34375 -1.171875 25.25 -1.171875 \nQ 15.140625 -1.171875 9.84375 3.03125 \nQ 4.546875 7.234375 3.078125 15.484375 \nz\n\" id=\"ArialMT-115\"/>\n      <path d=\"M 1.953125 0 \nL 1.953125 7.125 \nL 34.96875 45.015625 \nQ 29.34375 44.734375 25.046875 44.734375 \nL 3.90625 44.734375 \nL 3.90625 51.859375 \nL 46.296875 51.859375 \nL 46.296875 46.046875 \nL 18.21875 13.140625 \nL 12.796875 7.125 \nQ 18.703125 7.5625 23.875 7.5625 \nL 47.859375 7.5625 \nL 47.859375 0 \nz\n\" id=\"ArialMT-122\"/>\n     </defs>\n     <g style=\"fill:#262626;\" transform=\"translate(15.935625 169.903125)rotate(-90)scale(0.12 -0.12)\">\n      <use xlink:href=\"#ArialMT-83\"/>\n      <use x=\"66.699219\" xlink:href=\"#ArialMT-101\"/>\n      <use x=\"122.314453\" xlink:href=\"#ArialMT-113\"/>\n      <use x=\"177.929688\" xlink:href=\"#ArialMT-117\"/>\n      <use x=\"233.544922\" xlink:href=\"#ArialMT-101\"/>\n      <use x=\"289.160156\" xlink:href=\"#ArialMT-110\"/>\n      <use x=\"344.775391\" xlink:href=\"#ArialMT-99\"/>\n      <use x=\"394.775391\" xlink:href=\"#ArialMT-101\"/>\n      <use x=\"450.390625\" xlink:href=\"#ArialMT-32\"/>\n      <use x=\"478.173828\" xlink:href=\"#ArialMT-115\"/>\n      <use x=\"528.173828\" xlink:href=\"#ArialMT-105\"/>\n      <use x=\"550.390625\" xlink:href=\"#ArialMT-122\"/>\n      <use x=\"600.390625\" xlink:href=\"#ArialMT-101\"/>\n     </g>\n    </g>\n   </g>\n   <g id=\"patch_3\">\n    <path clip-path=\"url(#p56ae2bb6c0)\" d=\"M 68.522813 29.073 \nL 68.523139 29.073 \nL 68.523139 48.401 \nL 68.522813 48.401 \nz\n\" style=\"fill:#5875a4;stroke:#ffffff;stroke-linejoin:miter;\"/>\n   </g>\n   <g id=\"patch_4\">\n    <path clip-path=\"url(#p56ae2bb6c0)\" d=\"M 68.522813 101.553 \nL 68.524771 101.553 \nL 68.524771 120.881 \nL 68.522813 120.881 \nz\n\" style=\"fill:#5875a4;stroke:#ffffff;stroke-linejoin:miter;\"/>\n   </g>\n   <g id=\"patch_5\">\n    <path clip-path=\"url(#p56ae2bb6c0)\" d=\"M 68.522813 174.033 \nL 68.548603 174.033 \nL 68.548603 193.361 \nL 68.522813 193.361 \nz\n\" style=\"fill:#5875a4;stroke:#ffffff;stroke-linejoin:miter;\"/>\n   </g>\n   <g id=\"patch_6\">\n    <path clip-path=\"url(#p56ae2bb6c0)\" d=\"M 68.522813 48.401 \nL 68.522813 48.401 \nL 68.522813 67.729 \nL 68.522813 67.729 \nz\n\" style=\"fill:#cc8963;stroke:#ffffff;stroke-linejoin:miter;\"/>\n   </g>\n   <g id=\"patch_7\">\n    <path clip-path=\"url(#p56ae2bb6c0)\" d=\"M 68.522813 120.881 \nL 71.714335 120.881 \nL 71.714335 140.209 \nL 68.522813 140.209 \nz\n\" style=\"fill:#cc8963;stroke:#ffffff;stroke-linejoin:miter;\"/>\n   </g>\n   <g id=\"patch_8\">\n    <path clip-path=\"url(#p56ae2bb6c0)\" d=\"M 68.522813 193.361 \nL 387.379955 193.361 \nL 387.379955 212.689 \nL 68.522813 212.689 \nz\n\" style=\"fill:#cc8963;stroke:#ffffff;stroke-linejoin:miter;\"/>\n   </g>\n   <g id=\"patch_9\">\n    <path clip-path=\"url(#p56ae2bb6c0)\" d=\"M 68.522813 67.729 \nL 68.522813 67.729 \nL 68.522813 87.057 \nL 68.522813 87.057 \nz\n\" style=\"fill:#5f9e6e;stroke:#ffffff;stroke-linejoin:miter;\"/>\n   </g>\n   <g id=\"patch_10\">\n    <path clip-path=\"url(#p56ae2bb6c0)\" d=\"M 68.522813 140.209 \nL 68.530974 140.209 \nL 68.530974 159.537 \nL 68.522813 159.537 \nz\n\" style=\"fill:#5f9e6e;stroke:#ffffff;stroke-linejoin:miter;\"/>\n   </g>\n   <g id=\"patch_11\">\n    <path clip-path=\"url(#p56ae2bb6c0)\" d=\"M 68.522813 212.689 \nL 68.591044 212.689 \nL 68.591044 232.017 \nL 68.522813 232.017 \nz\n\" style=\"fill:#5f9e6e;stroke:#ffffff;stroke-linejoin:miter;\"/>\n   </g>\n   <g id=\"line2d_10\">\n    <path clip-path=\"url(#p56ae2bb6c0)\" d=\"M 0 0 \n\" style=\"fill:none;stroke:#424242;stroke-linecap:round;stroke-width:2.7;\"/>\n   </g>\n   <g id=\"line2d_11\">\n    <path clip-path=\"url(#p56ae2bb6c0)\" d=\"M 0 0 \n\" style=\"fill:none;stroke:#424242;stroke-linecap:round;stroke-width:2.7;\"/>\n   </g>\n   <g id=\"line2d_12\">\n    <path clip-path=\"url(#p56ae2bb6c0)\" d=\"M 0 0 \n\" style=\"fill:none;stroke:#424242;stroke-linecap:round;stroke-width:2.7;\"/>\n   </g>\n   <g id=\"line2d_13\">\n    <path clip-path=\"url(#p56ae2bb6c0)\" d=\"M 0 0 \n\" style=\"fill:none;stroke:#424242;stroke-linecap:round;stroke-width:2.7;\"/>\n   </g>\n   <g id=\"line2d_14\">\n    <path clip-path=\"url(#p56ae2bb6c0)\" d=\"M 0 0 \n\" style=\"fill:none;stroke:#424242;stroke-linecap:round;stroke-width:2.7;\"/>\n   </g>\n   <g id=\"line2d_15\">\n    <path clip-path=\"url(#p56ae2bb6c0)\" d=\"M 0 0 \n\" style=\"fill:none;stroke:#424242;stroke-linecap:round;stroke-width:2.7;\"/>\n   </g>\n   <g id=\"line2d_16\">\n    <path clip-path=\"url(#p56ae2bb6c0)\" d=\"M 0 0 \n\" style=\"fill:none;stroke:#424242;stroke-linecap:round;stroke-width:2.7;\"/>\n   </g>\n   <g id=\"line2d_17\">\n    <path clip-path=\"url(#p56ae2bb6c0)\" d=\"M 0 0 \n\" style=\"fill:none;stroke:#424242;stroke-linecap:round;stroke-width:2.7;\"/>\n   </g>\n   <g id=\"line2d_18\">\n    <path clip-path=\"url(#p56ae2bb6c0)\" d=\"M 0 0 \n\" style=\"fill:none;stroke:#424242;stroke-linecap:round;stroke-width:2.7;\"/>\n   </g>\n   <g id=\"patch_12\">\n    <path d=\"M 68.522813 239.265 \nL 68.522813 21.825 \n\" style=\"fill:none;stroke:#cccccc;stroke-linecap:square;stroke-linejoin:miter;stroke-width:1.25;\"/>\n   </g>\n   <g id=\"patch_13\">\n    <path d=\"M 403.322812 239.265 \nL 403.322812 21.825 \n\" style=\"fill:none;stroke:#cccccc;stroke-linecap:square;stroke-linejoin:miter;stroke-width:1.25;\"/>\n   </g>\n   <g id=\"patch_14\">\n    <path d=\"M 68.522813 239.265 \nL 403.322813 239.265 \n\" style=\"fill:none;stroke:#cccccc;stroke-linecap:square;stroke-linejoin:miter;stroke-width:1.25;\"/>\n   </g>\n   <g id=\"patch_15\">\n    <path d=\"M 68.522813 21.825 \nL 403.322813 21.825 \n\" style=\"fill:none;stroke:#cccccc;stroke-linecap:square;stroke-linejoin:miter;stroke-width:1.25;\"/>\n   </g>\n   <g id=\"text_15\">\n    <!-- Figure 2 - Memory usage -->\n    <defs>\n     <path d=\"M 8.203125 0 \nL 8.203125 71.578125 \nL 56.5 71.578125 \nL 56.5 63.140625 \nL 17.671875 63.140625 \nL 17.671875 40.96875 \nL 51.265625 40.96875 \nL 51.265625 32.515625 \nL 17.671875 32.515625 \nL 17.671875 0 \nz\n\" id=\"ArialMT-70\"/>\n     <path d=\"M 4.984375 -4.296875 \nL 13.53125 -5.5625 \nQ 14.0625 -9.515625 16.5 -11.328125 \nQ 19.78125 -13.765625 25.4375 -13.765625 \nQ 31.546875 -13.765625 34.859375 -11.328125 \nQ 38.1875 -8.890625 39.359375 -4.5 \nQ 40.046875 -1.8125 39.984375 6.78125 \nQ 34.234375 0 25.640625 0 \nQ 14.9375 0 9.078125 7.71875 \nQ 3.21875 15.4375 3.21875 26.21875 \nQ 3.21875 33.640625 5.90625 39.90625 \nQ 8.59375 46.1875 13.6875 49.609375 \nQ 18.796875 53.03125 25.6875 53.03125 \nQ 34.859375 53.03125 40.828125 45.609375 \nL 40.828125 51.859375 \nL 48.921875 51.859375 \nL 48.921875 7.03125 \nQ 48.921875 -5.078125 46.453125 -10.125 \nQ 44 -15.1875 38.640625 -18.109375 \nQ 33.296875 -21.046875 25.484375 -21.046875 \nQ 16.21875 -21.046875 10.5 -16.875 \nQ 4.78125 -12.703125 4.984375 -4.296875 \nz\nM 12.25 26.859375 \nQ 12.25 16.65625 16.296875 11.96875 \nQ 20.359375 7.28125 26.46875 7.28125 \nQ 32.515625 7.28125 36.609375 11.9375 \nQ 40.71875 16.609375 40.71875 26.5625 \nQ 40.71875 36.078125 36.5 40.90625 \nQ 32.28125 45.75 26.3125 45.75 \nQ 20.453125 45.75 16.34375 40.984375 \nQ 12.25 36.234375 12.25 26.859375 \nz\n\" id=\"ArialMT-103\"/>\n     <path d=\"M 3.171875 21.484375 \nL 3.171875 30.328125 \nL 30.171875 30.328125 \nL 30.171875 21.484375 \nz\n\" id=\"ArialMT-45\"/>\n     <path d=\"M 40.4375 6.390625 \nQ 35.546875 2.25 31.03125 0.53125 \nQ 26.515625 -1.171875 21.34375 -1.171875 \nQ 12.796875 -1.171875 8.203125 3 \nQ 3.609375 7.171875 3.609375 13.671875 \nQ 3.609375 17.484375 5.34375 20.625 \nQ 7.078125 23.78125 9.890625 25.6875 \nQ 12.703125 27.59375 16.21875 28.5625 \nQ 18.796875 29.25 24.03125 29.890625 \nQ 34.671875 31.15625 39.703125 32.90625 \nQ 39.75 34.71875 39.75 35.203125 \nQ 39.75 40.578125 37.25 42.78125 \nQ 33.890625 45.75 27.25 45.75 \nQ 21.046875 45.75 18.09375 43.578125 \nQ 15.140625 41.40625 13.71875 35.890625 \nL 5.125 37.0625 \nQ 6.296875 42.578125 8.984375 45.96875 \nQ 11.671875 49.359375 16.75 51.1875 \nQ 21.828125 53.03125 28.515625 53.03125 \nQ 35.15625 53.03125 39.296875 51.46875 \nQ 43.453125 49.90625 45.40625 47.53125 \nQ 47.359375 45.171875 48.140625 41.546875 \nQ 48.578125 39.3125 48.578125 33.453125 \nL 48.578125 21.734375 \nQ 48.578125 9.46875 49.140625 6.21875 \nQ 49.703125 2.984375 51.375 0 \nL 42.1875 0 \nQ 40.828125 2.734375 40.4375 6.390625 \nz\nM 39.703125 26.03125 \nQ 34.90625 24.078125 25.34375 22.703125 \nQ 19.921875 21.921875 17.671875 20.9375 \nQ 15.4375 19.96875 14.203125 18.09375 \nQ 12.984375 16.21875 12.984375 13.921875 \nQ 12.984375 10.40625 15.640625 8.0625 \nQ 18.3125 5.71875 23.4375 5.71875 \nQ 28.515625 5.71875 32.46875 7.9375 \nQ 36.421875 10.15625 38.28125 14.015625 \nQ 39.703125 17 39.703125 22.796875 \nz\n\" id=\"ArialMT-97\"/>\n    </defs>\n    <g style=\"fill:#262626;\" transform=\"translate(168.902813 15.825)scale(0.12 -0.12)\">\n     <use xlink:href=\"#ArialMT-70\"/>\n     <use x=\"61.083984\" xlink:href=\"#ArialMT-105\"/>\n     <use x=\"83.300781\" xlink:href=\"#ArialMT-103\"/>\n     <use x=\"138.916016\" xlink:href=\"#ArialMT-117\"/>\n     <use x=\"194.53125\" xlink:href=\"#ArialMT-114\"/>\n     <use x=\"227.832031\" xlink:href=\"#ArialMT-101\"/>\n     <use x=\"283.447266\" xlink:href=\"#ArialMT-32\"/>\n     <use x=\"311.230469\" xlink:href=\"#ArialMT-50\"/>\n     <use x=\"366.845703\" xlink:href=\"#ArialMT-32\"/>\n     <use x=\"394.628906\" xlink:href=\"#ArialMT-45\"/>\n     <use x=\"427.929688\" xlink:href=\"#ArialMT-32\"/>\n     <use x=\"455.712891\" xlink:href=\"#ArialMT-77\"/>\n     <use x=\"539.013672\" xlink:href=\"#ArialMT-101\"/>\n     <use x=\"594.628906\" xlink:href=\"#ArialMT-109\"/>\n     <use x=\"677.929688\" xlink:href=\"#ArialMT-111\"/>\n     <use x=\"733.544922\" xlink:href=\"#ArialMT-114\"/>\n     <use x=\"766.845703\" xlink:href=\"#ArialMT-121\"/>\n     <use x=\"816.845703\" xlink:href=\"#ArialMT-32\"/>\n     <use x=\"844.628906\" xlink:href=\"#ArialMT-117\"/>\n     <use x=\"900.244141\" xlink:href=\"#ArialMT-115\"/>\n     <use x=\"950.244141\" xlink:href=\"#ArialMT-97\"/>\n     <use x=\"1005.859375\" xlink:href=\"#ArialMT-103\"/>\n     <use x=\"1061.474609\" xlink:href=\"#ArialMT-101\"/>\n    </g>\n   </g>\n   <g id=\"legend_1\">\n    <g id=\"patch_16\">\n     <path d=\"M 210.668125 92.510094 \nL 395.622813 92.510094 \nQ 397.822812 92.510094 397.822812 90.310094 \nL 397.822812 29.525 \nQ 397.822812 27.325 395.622813 27.325 \nL 210.668125 27.325 \nQ 208.468125 27.325 208.468125 29.525 \nL 208.468125 90.310094 \nQ 208.468125 92.510094 210.668125 92.510094 \nz\n\" style=\"fill:#ffffff;opacity:0.8;stroke:#cccccc;stroke-linejoin:miter;\"/>\n    </g>\n    <g id=\"text_16\">\n     <!-- Algorithm -->\n     <defs>\n      <path d=\"M -0.140625 0 \nL 27.34375 71.578125 \nL 37.546875 71.578125 \nL 66.84375 0 \nL 56.0625 0 \nL 47.703125 21.6875 \nL 17.78125 21.6875 \nL 9.90625 0 \nz\nM 20.515625 29.390625 \nL 44.78125 29.390625 \nL 37.3125 49.21875 \nQ 33.890625 58.25 32.234375 64.0625 \nQ 30.859375 57.171875 28.375 50.390625 \nz\n\" id=\"ArialMT-65\"/>\n      <path d=\"M 6.390625 0 \nL 6.390625 71.578125 \nL 15.1875 71.578125 \nL 15.1875 0 \nz\n\" id=\"ArialMT-108\"/>\n      <path d=\"M 25.78125 7.859375 \nL 27.046875 0.09375 \nQ 23.34375 -0.6875 20.40625 -0.6875 \nQ 15.625 -0.6875 12.984375 0.828125 \nQ 10.359375 2.34375 9.28125 4.8125 \nQ 8.203125 7.28125 8.203125 15.1875 \nL 8.203125 45.015625 \nL 1.765625 45.015625 \nL 1.765625 51.859375 \nL 8.203125 51.859375 \nL 8.203125 64.703125 \nL 16.9375 69.96875 \nL 16.9375 51.859375 \nL 25.78125 51.859375 \nL 25.78125 45.015625 \nL 16.9375 45.015625 \nL 16.9375 14.703125 \nQ 16.9375 10.9375 17.40625 9.859375 \nQ 17.875 8.796875 18.921875 8.15625 \nQ 19.96875 7.515625 21.921875 7.515625 \nQ 23.390625 7.515625 25.78125 7.859375 \nz\n\" id=\"ArialMT-116\"/>\n      <path d=\"M 6.59375 0 \nL 6.59375 71.578125 \nL 15.375 71.578125 \nL 15.375 45.90625 \nQ 21.53125 53.03125 30.90625 53.03125 \nQ 36.671875 53.03125 40.921875 50.75 \nQ 45.171875 48.484375 47 44.484375 \nQ 48.828125 40.484375 48.828125 32.859375 \nL 48.828125 0 \nL 40.046875 0 \nL 40.046875 32.859375 \nQ 40.046875 39.453125 37.1875 42.453125 \nQ 34.328125 45.453125 29.109375 45.453125 \nQ 25.203125 45.453125 21.75 43.421875 \nQ 18.3125 41.40625 16.84375 37.9375 \nQ 15.375 34.46875 15.375 28.375 \nL 15.375 0 \nz\n\" id=\"ArialMT-104\"/>\n     </defs>\n     <g style=\"fill:#262626;\" transform=\"translate(281.605937 39.025969)scale(0.102 -0.102)\">\n      <use xlink:href=\"#ArialMT-65\"/>\n      <use x=\"66.699219\" xlink:href=\"#ArialMT-108\"/>\n      <use x=\"88.916016\" xlink:href=\"#ArialMT-103\"/>\n      <use x=\"144.53125\" xlink:href=\"#ArialMT-111\"/>\n      <use x=\"200.146484\" xlink:href=\"#ArialMT-114\"/>\n      <use x=\"233.447266\" xlink:href=\"#ArialMT-105\"/>\n      <use x=\"255.664062\" xlink:href=\"#ArialMT-116\"/>\n      <use x=\"283.447266\" xlink:href=\"#ArialMT-104\"/>\n      <use x=\"339.0625\" xlink:href=\"#ArialMT-109\"/>\n     </g>\n    </g>\n    <g id=\"patch_17\">\n     <path d=\"M 212.868125 54.546344 \nL 234.868125 54.546344 \nL 234.868125 46.846344 \nL 212.868125 46.846344 \nz\n\" style=\"fill:#5875a4;stroke:#ffffff;stroke-linejoin:miter;\"/>\n    </g>\n    <g id=\"text_17\">\n     <!-- Brute force -->\n     <defs>\n      <path d=\"M 8.6875 0 \nL 8.6875 45.015625 \nL 0.921875 45.015625 \nL 0.921875 51.859375 \nL 8.6875 51.859375 \nL 8.6875 57.375 \nQ 8.6875 62.59375 9.625 65.140625 \nQ 10.890625 68.5625 14.078125 70.671875 \nQ 17.28125 72.796875 23.046875 72.796875 \nQ 26.765625 72.796875 31.25 71.921875 \nL 29.9375 64.265625 \nQ 27.203125 64.75 24.75 64.75 \nQ 20.75 64.75 19.09375 63.03125 \nQ 17.4375 61.328125 17.4375 56.640625 \nL 17.4375 51.859375 \nL 27.546875 51.859375 \nL 27.546875 45.015625 \nL 17.4375 45.015625 \nL 17.4375 0 \nz\n\" id=\"ArialMT-102\"/>\n     </defs>\n     <g style=\"fill:#262626;\" transform=\"translate(243.668125 54.546344)scale(0.11 -0.11)\">\n      <use xlink:href=\"#ArialMT-66\"/>\n      <use x=\"66.699219\" xlink:href=\"#ArialMT-114\"/>\n      <use x=\"100\" xlink:href=\"#ArialMT-117\"/>\n      <use x=\"155.615234\" xlink:href=\"#ArialMT-116\"/>\n      <use x=\"183.398438\" xlink:href=\"#ArialMT-101\"/>\n      <use x=\"239.013672\" xlink:href=\"#ArialMT-32\"/>\n      <use x=\"266.796875\" xlink:href=\"#ArialMT-102\"/>\n      <use x=\"294.580078\" xlink:href=\"#ArialMT-111\"/>\n      <use x=\"350.195312\" xlink:href=\"#ArialMT-114\"/>\n      <use x=\"383.496094\" xlink:href=\"#ArialMT-99\"/>\n      <use x=\"433.496094\" xlink:href=\"#ArialMT-101\"/>\n     </g>\n    </g>\n    <g id=\"patch_18\">\n     <path d=\"M 212.868125 70.106187 \nL 234.868125 70.106187 \nL 234.868125 62.406187 \nL 212.868125 62.406187 \nz\n\" style=\"fill:#cc8963;stroke:#ffffff;stroke-linejoin:miter;\"/>\n    </g>\n    <g id=\"text_18\">\n     <!-- Dynamic programming NumPy -->\n     <defs>\n      <path d=\"M 7.71875 0 \nL 7.71875 71.578125 \nL 32.375 71.578125 \nQ 40.71875 71.578125 45.125 70.5625 \nQ 51.265625 69.140625 55.609375 65.4375 \nQ 61.28125 60.640625 64.078125 53.1875 \nQ 66.890625 45.75 66.890625 36.1875 \nQ 66.890625 28.03125 64.984375 21.734375 \nQ 63.09375 15.4375 60.109375 11.296875 \nQ 57.125 7.171875 53.578125 4.796875 \nQ 50.046875 2.4375 45.046875 1.21875 \nQ 40.046875 0 33.546875 0 \nz\nM 17.1875 8.453125 \nL 32.46875 8.453125 \nQ 39.546875 8.453125 43.578125 9.765625 \nQ 47.609375 11.078125 50 13.484375 \nQ 53.375 16.84375 55.25 22.53125 \nQ 57.125 28.21875 57.125 36.328125 \nQ 57.125 47.5625 53.4375 53.59375 \nQ 49.75 59.625 44.484375 61.671875 \nQ 40.671875 63.140625 32.234375 63.140625 \nL 17.1875 63.140625 \nz\n\" id=\"ArialMT-68\"/>\n      <path d=\"M 6.59375 -19.875 \nL 6.59375 51.859375 \nL 14.59375 51.859375 \nL 14.59375 45.125 \nQ 17.4375 49.078125 21 51.046875 \nQ 24.5625 53.03125 29.640625 53.03125 \nQ 36.28125 53.03125 41.359375 49.609375 \nQ 46.4375 46.1875 49.015625 39.953125 \nQ 51.609375 33.734375 51.609375 26.3125 \nQ 51.609375 18.359375 48.75 11.984375 \nQ 45.90625 5.609375 40.453125 2.21875 \nQ 35.015625 -1.171875 29 -1.171875 \nQ 24.609375 -1.171875 21.109375 0.6875 \nQ 17.625 2.546875 15.375 5.375 \nL 15.375 -19.875 \nz\nM 14.546875 25.640625 \nQ 14.546875 15.625 18.59375 10.84375 \nQ 22.65625 6.0625 28.421875 6.0625 \nQ 34.28125 6.0625 38.453125 11.015625 \nQ 42.625 15.96875 42.625 26.375 \nQ 42.625 36.28125 38.546875 41.203125 \nQ 34.46875 46.140625 28.8125 46.140625 \nQ 23.1875 46.140625 18.859375 40.890625 \nQ 14.546875 35.640625 14.546875 25.640625 \nz\n\" id=\"ArialMT-112\"/>\n      <path d=\"M 7.625 0 \nL 7.625 71.578125 \nL 17.328125 71.578125 \nL 54.9375 15.375 \nL 54.9375 71.578125 \nL 64.015625 71.578125 \nL 64.015625 0 \nL 54.296875 0 \nL 16.703125 56.25 \nL 16.703125 0 \nz\n\" id=\"ArialMT-78\"/>\n      <path d=\"M 7.71875 0 \nL 7.71875 71.578125 \nL 34.71875 71.578125 \nQ 41.84375 71.578125 45.609375 70.90625 \nQ 50.875 70.015625 54.4375 67.546875 \nQ 58.015625 65.09375 60.1875 60.640625 \nQ 62.359375 56.203125 62.359375 50.875 \nQ 62.359375 41.75 56.546875 35.421875 \nQ 50.734375 29.109375 35.546875 29.109375 \nL 17.1875 29.109375 \nL 17.1875 0 \nz\nM 17.1875 37.546875 \nL 35.6875 37.546875 \nQ 44.875 37.546875 48.734375 40.96875 \nQ 52.59375 44.390625 52.59375 50.59375 \nQ 52.59375 55.078125 50.3125 58.265625 \nQ 48.046875 61.46875 44.34375 62.5 \nQ 41.9375 63.140625 35.5 63.140625 \nL 17.1875 63.140625 \nz\n\" id=\"ArialMT-80\"/>\n     </defs>\n     <g style=\"fill:#262626;\" transform=\"translate(243.668125 70.106187)scale(0.11 -0.11)\">\n      <use xlink:href=\"#ArialMT-68\"/>\n      <use x=\"72.216797\" xlink:href=\"#ArialMT-121\"/>\n      <use x=\"122.216797\" xlink:href=\"#ArialMT-110\"/>\n      <use x=\"177.832031\" xlink:href=\"#ArialMT-97\"/>\n      <use x=\"233.447266\" xlink:href=\"#ArialMT-109\"/>\n      <use x=\"316.748047\" xlink:href=\"#ArialMT-105\"/>\n      <use x=\"338.964844\" xlink:href=\"#ArialMT-99\"/>\n      <use x=\"388.964844\" xlink:href=\"#ArialMT-32\"/>\n      <use x=\"416.748047\" xlink:href=\"#ArialMT-112\"/>\n      <use x=\"472.363281\" xlink:href=\"#ArialMT-114\"/>\n      <use x=\"505.664062\" xlink:href=\"#ArialMT-111\"/>\n      <use x=\"561.279297\" xlink:href=\"#ArialMT-103\"/>\n      <use x=\"616.894531\" xlink:href=\"#ArialMT-114\"/>\n      <use x=\"650.195312\" xlink:href=\"#ArialMT-97\"/>\n      <use x=\"705.810547\" xlink:href=\"#ArialMT-109\"/>\n      <use x=\"789.111328\" xlink:href=\"#ArialMT-109\"/>\n      <use x=\"872.412109\" xlink:href=\"#ArialMT-105\"/>\n      <use x=\"894.628906\" xlink:href=\"#ArialMT-110\"/>\n      <use x=\"950.244141\" xlink:href=\"#ArialMT-103\"/>\n      <use x=\"1005.859375\" xlink:href=\"#ArialMT-32\"/>\n      <use x=\"1033.642578\" xlink:href=\"#ArialMT-78\"/>\n      <use x=\"1105.859375\" xlink:href=\"#ArialMT-117\"/>\n      <use x=\"1161.474609\" xlink:href=\"#ArialMT-109\"/>\n      <use x=\"1244.775391\" xlink:href=\"#ArialMT-80\"/>\n      <use x=\"1311.474609\" xlink:href=\"#ArialMT-121\"/>\n     </g>\n    </g>\n    <g id=\"patch_19\">\n     <path d=\"M 212.868125 85.794937 \nL 234.868125 85.794937 \nL 234.868125 78.094937 \nL 212.868125 78.094937 \nz\n\" style=\"fill:#5f9e6e;stroke:#ffffff;stroke-linejoin:miter;\"/>\n    </g>\n    <g id=\"text_19\">\n     <!-- Hirschberg NumPy -->\n     <defs>\n      <path d=\"M 8.015625 0 \nL 8.015625 71.578125 \nL 17.484375 71.578125 \nL 17.484375 42.1875 \nL 54.6875 42.1875 \nL 54.6875 71.578125 \nL 64.15625 71.578125 \nL 64.15625 0 \nL 54.6875 0 \nL 54.6875 33.734375 \nL 17.484375 33.734375 \nL 17.484375 0 \nz\n\" id=\"ArialMT-72\"/>\n      <path d=\"M 14.703125 0 \nL 6.546875 0 \nL 6.546875 71.578125 \nL 15.328125 71.578125 \nL 15.328125 46.046875 \nQ 20.90625 53.03125 29.546875 53.03125 \nQ 34.328125 53.03125 38.59375 51.09375 \nQ 42.875 49.171875 45.625 45.671875 \nQ 48.390625 42.1875 49.953125 37.25 \nQ 51.515625 32.328125 51.515625 26.703125 \nQ 51.515625 13.375 44.921875 6.09375 \nQ 38.328125 -1.171875 29.109375 -1.171875 \nQ 19.921875 -1.171875 14.703125 6.5 \nz\nM 14.59375 26.3125 \nQ 14.59375 17 17.140625 12.84375 \nQ 21.296875 6.0625 28.375 6.0625 \nQ 34.125 6.0625 38.328125 11.0625 \nQ 42.53125 16.0625 42.53125 25.984375 \nQ 42.53125 36.140625 38.5 40.96875 \nQ 34.46875 45.796875 28.765625 45.796875 \nQ 23 45.796875 18.796875 40.796875 \nQ 14.59375 35.796875 14.59375 26.3125 \nz\n\" id=\"ArialMT-98\"/>\n     </defs>\n     <g style=\"fill:#262626;\" transform=\"translate(243.668125 85.794937)scale(0.11 -0.11)\">\n      <use xlink:href=\"#ArialMT-72\"/>\n      <use x=\"72.216797\" xlink:href=\"#ArialMT-105\"/>\n      <use x=\"94.433594\" xlink:href=\"#ArialMT-114\"/>\n      <use x=\"127.734375\" xlink:href=\"#ArialMT-115\"/>\n      <use x=\"177.734375\" xlink:href=\"#ArialMT-99\"/>\n      <use x=\"227.734375\" xlink:href=\"#ArialMT-104\"/>\n      <use x=\"283.349609\" xlink:href=\"#ArialMT-98\"/>\n      <use x=\"338.964844\" xlink:href=\"#ArialMT-101\"/>\n      <use x=\"394.580078\" xlink:href=\"#ArialMT-114\"/>\n      <use x=\"427.880859\" xlink:href=\"#ArialMT-103\"/>\n      <use x=\"483.496094\" xlink:href=\"#ArialMT-32\"/>\n      <use x=\"511.279297\" xlink:href=\"#ArialMT-78\"/>\n      <use x=\"583.496094\" xlink:href=\"#ArialMT-117\"/>\n      <use x=\"639.111328\" xlink:href=\"#ArialMT-109\"/>\n      <use x=\"722.412109\" xlink:href=\"#ArialMT-80\"/>\n      <use x=\"789.111328\" xlink:href=\"#ArialMT-121\"/>\n     </g>\n    </g>\n   </g>\n  </g>\n </g>\n <defs>\n  <clipPath id=\"p56ae2bb6c0\">\n   <rect height=\"217.44\" width=\"334.8\" x=\"68.522813\" y=\"21.825\"/>\n  </clipPath>\n </defs>\n</svg>\n",
      "image/png": "[encoded data removed]"
     },
     "metadata": {}
    }
   ],
   "source": [
    "sns.barplot(data=mem_results_summary, y=m.DF_SEQ_SIZE,\n",
    "            x=m.DF_MEMORY, hue=m.DF_ALGORITHM,\n",
    "            orient='h').set_title('Figure 2 - Memory usage');"
   ]
  },
  {
   "cell_type": "markdown",
   "metadata": {},
   "source": [
    "## Code structure and description\n",
    "\n",
    "> Describe structure of the code\n",
    "\n",
    "### How time was measured\n",
    "\n",
    "### How memory was measured\n",
    "\n",
    "### Code optimizations\n"
   ]
  },
  {
   "cell_type": "markdown",
   "metadata": {},
   "source": [
    "## References\n",
    "\n",
    "\\[BAF16\\] Beal, R., Afrin, T., Farheen, A. et al. 2016. _A new algorithm for “the LCS problem” with application in compressing genome resequencing data_. BMC Genomics 17, 544 (2016). https://doi.org/10.1186/s12864-016-2793-0, accessed 2020-03-16.\n",
    "\n",
    "\\[CLRS01\\] Cormen, T., Leiserson, C., Rivest, R., and Stein, C. 2001. *Introduction to Algorithms*, 2<sup>nd</sup> edition. MIT Press.\n",
    "\n",
    "\\[CPY20\\] _The CPython source code_. https://github.com/python/cpython/blob/v3.6.3/Include/unicodeobject.h#L202, accessed 2020-03-18.\n",
    "\n",
    "\\[GOL20\\] Golubin, A. _How Python saves memory when storing strings_. https://rushter.com/blog/python-strings-and-memory/, accessed 2020-03-18.\n",
    "\n",
    "\\[HIR75\\] Hirschberg, D. _A linear space algorithm for computing maximal common subsequences._ Commun. ACM 18 (1975): 341-343.\n",
    "\n",
    "\\[KT05\\] Kleinberg, J. and Tardos, E. 2005. _Algorithm Design_. Addison-Wesley Longman Publishing Co., Inc., USA.\n",
    "\n",
    "\\[NAV01\\] Navarro, G. 2001. _A guided tour to approximate string matching_. ACM Computing Surveys. http://users.csc.calpoly.edu/~dekhtyar/570-Fall2011/papers/navarro-approximate.pdf, accessed 2020-03-27.\n",
    "\n",
    "\\[FAG16\\] Fagerberg, R. 2016. _Dynamic Programming: Hirschberg’s Trick_. https://imada.sdu.dk/~rolf/Edu/DM823/E16/Hirschberg.pdf, accessed 2020-04-25.\n",
    "\n",
    "\\[WIK20\\] Wikipedia, _Subsequence_ entry, _Applications_ section, https://en.wikipedia.org/wiki/Subsequence#Applications, accessed 2020-03-18.\n",
    "\n",
    "References used in the code are annotated directly in the code."
   ]
  },
  {
   "cell_type": "markdown",
   "metadata": {},
   "source": [
    "## Appendix\n",
    "\n",
    "> Show full data from the experiments here"
   ]
  }
 ],
 "metadata": {
  "language_info": {
   "name": "python",
   "codemirror_mode": {
    "name": "ipython",
    "version": 3
   },
   "version": "3.7.2-final"
  },
  "orig_nbformat": 2,
  "file_extension": ".py",
  "mimetype": "text/x-python",
  "name": "python",
  "npconvert_exporter": "python",
  "pygments_lexer": "ipython3",
  "version": 3,
  "kernelspec": {
   "name": "python37264bitenvvenvbfb87bad6a704ed3bff22befd15a1249",
   "display_name": "Python 3.7.2 64-bit ('env': venv)"
  }
 },
 "nbformat": 4,
 "nbformat_minor": 2
}